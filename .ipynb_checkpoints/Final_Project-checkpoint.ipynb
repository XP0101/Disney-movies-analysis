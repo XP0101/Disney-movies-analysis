{
 "cells": [
  {
   "cell_type": "markdown",
   "id": "73ccb5a1",
   "metadata": {},
   "source": [
    "# FINAL PROJECT"
   ]
  },
  {
   "cell_type": "markdown",
   "id": "ee591e04",
   "metadata": {},
   "source": [
    "### Mandatory Library"
   ]
  },
  {
   "cell_type": "code",
   "execution_count": 52,
   "id": "5f64d08a",
   "metadata": {},
   "outputs": [],
   "source": [
    "import pandas as pd\n",
    "import numpy as np\n",
    "import datetime"
   ]
  },
  {
   "cell_type": "markdown",
   "id": "db6332d8",
   "metadata": {},
   "source": [
    "## 1. Collecting data\n",
    "\n",
    "• **What subject is your data about? What is the source of\n",
    "your data?**\n",
    "- Data is about Disney movies along with box office success, annual gross income and this dataset aims to seek relationship between box office gross (1) and MPAA ratings (2) in Disney movies\n",
    "- Source can be found [here](https://data.world/kgarrett/disney-character-success-00-16)\n",
    "- Description about data has 9 files, 23 columns. But for the sake of this final project we only  use a partial\n",
    "- What are the trends in the Walt Disney Studio’s box office data? How do certain characters contribute to the success or failure of a movie?\n",
    "    \n",
    "• **Do authors of this data allow you to use like this? You\n",
    "can check the data license**\n",
    "- The Author has published this data 5 years ago and this data is eligibled for everyone to use in `About this dataset` section\n",
    "- License: `CC-BY` (3)\n",
    "\n",
    "• **How did authors collect data?**\n",
    "- Data is obtained by 4 authors and their references according to their `DisneyReport.pdf`\n",
    "    - https://www.sugarcane.com/data/walt-disney-animation-studios-films-1\n",
    "    - http://www.the-numbers.com/movies/distributor/Walt-Disney\n",
    "    - https://en.wikipedia.org/wiki/List_of_Disney_animated_universe_characters\n",
    "    - https://en.wikipedia.org/wiki/The_Walt_Disney_Company#Financial_data\n",
    "- They utilize [import.io](https://www.import.io) to convert raw data into csv file"
   ]
  },
  {
   "cell_type": "markdown",
   "id": "a567b166",
   "metadata": {},
   "source": [
    "## 2. Exploring data \n",
    "### (often interleaved with preprocessing)\n",
    "\n",
    "• How many rows and how many columns?\n",
    "\n",
    "• What is the meaning of each row?\n",
    "\n",
    "• Are there `duplicated rows`?\n",
    "\n",
    "• What is the meaning of each column?\n",
    "\n",
    "\n",
    "• What is the current data type of each column? Are\n",
    "there columns having `inappropriate data types`?\n",
    "\n",
    "• With each numerical column, how are values\n",
    "distributed?\n",
    "    - What is the percentage of `missing values`?\n",
    "    - Min? max? Are they `abnormal`?\n",
    "\n",
    "• With each categorical column, how are values\n",
    "distributed?\n",
    "    - What is the percentage of `missing values`?\n",
    "    - How many different values? Show a few\n",
    "      Are they `abnormal`?"
   ]
  },
  {
   "cell_type": "markdown",
   "id": "a9f21294",
   "metadata": {},
   "source": [
    "### Read csv into Dataframe"
   ]
  },
  {
   "cell_type": "code",
   "execution_count": 53,
   "id": "262d02da",
   "metadata": {},
   "outputs": [
    {
     "data": {
      "text/html": [
       "<div>\n",
       "<style scoped>\n",
       "    .dataframe tbody tr th:only-of-type {\n",
       "        vertical-align: middle;\n",
       "    }\n",
       "\n",
       "    .dataframe tbody tr th {\n",
       "        vertical-align: top;\n",
       "    }\n",
       "\n",
       "    .dataframe thead th {\n",
       "        text-align: right;\n",
       "    }\n",
       "</style>\n",
       "<table border=\"1\" class=\"dataframe\">\n",
       "  <thead>\n",
       "    <tr style=\"text-align: right;\">\n",
       "      <th></th>\n",
       "      <th>movie_title</th>\n",
       "      <th>release_date</th>\n",
       "      <th>genre</th>\n",
       "      <th>mpaa_rating</th>\n",
       "      <th>total_gross</th>\n",
       "      <th>inflation_adjusted_gross</th>\n",
       "    </tr>\n",
       "  </thead>\n",
       "  <tbody>\n",
       "    <tr>\n",
       "      <th>5</th>\n",
       "      <td>20,000 Leagues Under the Sea</td>\n",
       "      <td>1954-12-23</td>\n",
       "      <td>Adventure</td>\n",
       "      <td>NaN</td>\n",
       "      <td>28200000</td>\n",
       "      <td>528279994</td>\n",
       "    </tr>\n",
       "    <tr>\n",
       "      <th>243</th>\n",
       "      <td>Phenomenon</td>\n",
       "      <td>1996-07-05</td>\n",
       "      <td>Drama</td>\n",
       "      <td>PG</td>\n",
       "      <td>104636382</td>\n",
       "      <td>199559799</td>\n",
       "    </tr>\n",
       "    <tr>\n",
       "      <th>168</th>\n",
       "      <td>Red Rock West</td>\n",
       "      <td>1994-01-28</td>\n",
       "      <td>NaN</td>\n",
       "      <td>R</td>\n",
       "      <td>2502551</td>\n",
       "      <td>5170709</td>\n",
       "    </tr>\n",
       "    <tr>\n",
       "      <th>473</th>\n",
       "      <td>Morning Light</td>\n",
       "      <td>2008-10-17</td>\n",
       "      <td>Documentary</td>\n",
       "      <td>PG</td>\n",
       "      <td>275093</td>\n",
       "      <td>322979</td>\n",
       "    </tr>\n",
       "    <tr>\n",
       "      <th>357</th>\n",
       "      <td>The Count of Monte Cristo</td>\n",
       "      <td>2002-01-25</td>\n",
       "      <td>Drama</td>\n",
       "      <td>PG-13</td>\n",
       "      <td>54228104</td>\n",
       "      <td>78682079</td>\n",
       "    </tr>\n",
       "  </tbody>\n",
       "</table>\n",
       "</div>"
      ],
      "text/plain": [
       "                      movie_title release_date        genre mpaa_rating  \\\n",
       "5    20,000 Leagues Under the Sea   1954-12-23    Adventure         NaN   \n",
       "243                    Phenomenon   1996-07-05        Drama          PG   \n",
       "168                 Red Rock West   1994-01-28          NaN           R   \n",
       "473                 Morning Light   2008-10-17  Documentary          PG   \n",
       "357     The Count of Monte Cristo   2002-01-25        Drama       PG-13   \n",
       "\n",
       "     total_gross  inflation_adjusted_gross  \n",
       "5       28200000                 528279994  \n",
       "243    104636382                 199559799  \n",
       "168      2502551                   5170709  \n",
       "473       275093                    322979  \n",
       "357     54228104                  78682079  "
      ]
     },
     "execution_count": 53,
     "metadata": {},
     "output_type": "execute_result"
    }
   ],
   "source": [
    "movies_gross = pd.read_csv('Data/disney_movies_total_gross.csv')\n",
    "movies_gross.sample(5)"
   ]
  },
  {
   "cell_type": "markdown",
   "id": "6ee5dcd4",
   "metadata": {},
   "source": [
    "### How many rows and how many columns?"
   ]
  },
  {
   "cell_type": "code",
   "execution_count": 24,
   "id": "4f12104a",
   "metadata": {},
   "outputs": [
    {
     "name": "stdout",
     "output_type": "stream",
     "text": [
      "rows:579\n",
      "columns:6\n"
     ]
    }
   ],
   "source": [
    "print(\"rows:\"+ str(movies_gross.shape[0]))\n",
    "print(\"columns:\"+ str(movies_gross.shape[1]))"
   ]
  },
  {
   "cell_type": "markdown",
   "id": "96f5a9c2",
   "metadata": {},
   "source": [
    "### What is the meaning of column?"
   ]
  },
  {
   "cell_type": "markdown",
   "id": "d74a7f94",
   "metadata": {},
   "source": [
    "`movie_title` : title of a movie  \n",
    "`release_date`: the date this movie release  \n",
    "`genre`:  Genre of a movie  \n",
    "`mpaa_rating`: MPAA ratings of a movie  \n",
    "`total_gross`: Total gross of a movie   \n",
    "`inflation_adjusted_gross`: inflation of a movies"
   ]
  },
  {
   "cell_type": "code",
   "execution_count": 65,
   "id": "d84c770f",
   "metadata": {},
   "outputs": [
    {
     "data": {
      "text/html": [
       "<div>\n",
       "<style scoped>\n",
       "    .dataframe tbody tr th:only-of-type {\n",
       "        vertical-align: middle;\n",
       "    }\n",
       "\n",
       "    .dataframe tbody tr th {\n",
       "        vertical-align: top;\n",
       "    }\n",
       "\n",
       "    .dataframe thead th {\n",
       "        text-align: right;\n",
       "    }\n",
       "</style>\n",
       "<table border=\"1\" class=\"dataframe\">\n",
       "  <thead>\n",
       "    <tr style=\"text-align: right;\">\n",
       "      <th></th>\n",
       "      <th>movie_title</th>\n",
       "      <th>release_date</th>\n",
       "      <th>genre</th>\n",
       "      <th>mpaa_rating</th>\n",
       "      <th>total_gross</th>\n",
       "      <th>inflation_adjusted_gross</th>\n",
       "    </tr>\n",
       "  </thead>\n",
       "  <tbody>\n",
       "    <tr>\n",
       "      <th>501</th>\n",
       "      <td>Step Up 3D</td>\n",
       "      <td>2010-08-06</td>\n",
       "      <td>Drama</td>\n",
       "      <td>PG-13</td>\n",
       "      <td>42400223</td>\n",
       "      <td>45302137</td>\n",
       "    </tr>\n",
       "  </tbody>\n",
       "</table>\n",
       "</div>"
      ],
      "text/plain": [
       "    movie_title release_date  genre mpaa_rating  total_gross  \\\n",
       "501  Step Up 3D   2010-08-06  Drama       PG-13     42400223   \n",
       "\n",
       "     inflation_adjusted_gross  \n",
       "501                  45302137  "
      ]
     },
     "execution_count": 65,
     "metadata": {},
     "output_type": "execute_result"
    }
   ],
   "source": [
    "movies_gross.sample(1)"
   ]
  },
  {
   "cell_type": "markdown",
   "id": "7990ab1e",
   "metadata": {},
   "source": [
    "### What is the current data type of each column? Are there columns having inappropriate data types?"
   ]
  },
  {
   "cell_type": "code",
   "execution_count": 26,
   "id": "20bbfdfe",
   "metadata": {},
   "outputs": [],
   "source": [
    "def open_object_dtype(s):\n",
    "    dtypes = set()\n",
    "    dtypes = set(s.apply(type))\n",
    "    return dtypes"
   ]
  },
  {
   "cell_type": "code",
   "execution_count": 38,
   "id": "57fff757",
   "metadata": {},
   "outputs": [
    {
     "name": "stdout",
     "output_type": "stream",
     "text": [
      "movies_title :{<class 'str'>}\n",
      "release_date :{<class 'str'>}\n",
      "genre :{<class 'float'>, <class 'str'>}\n",
      "mpaa_rating :{<class 'float'>, <class 'str'>}\n",
      "total_gross :{<class 'int'>}\n",
      "inflation_adjusted_gross :{<class 'int'>}\n"
     ]
    }
   ],
   "source": [
    "print('movies_title :' + str(open_object_dtype(movies_gross['movie_title'])))\n",
    "print('release_date :' + str(open_object_dtype(movies_gross['release_date'])))\n",
    "print('genre :' + str(open_object_dtype(movies_gross['genre'])))\n",
    "print('mpaa_rating :' + str(open_object_dtype(movies_gross['mpaa_rating'])))\n",
    "print('total_gross :' + str(open_object_dtype(movies_gross['total_gross'])))\n",
    "print('inflation_adjusted_gross :' + str(open_object_dtype(movies_gross['inflation_adjusted_gross'])))"
   ]
  },
  {
   "cell_type": "markdown",
   "id": "5553e25b",
   "metadata": {},
   "source": [
    "- As we can see both `Genre` and `mpaa_rating` have the same dtypes of `str` and `float`\n",
    "- Since we have noticed so far, `release_date` needs converting to Datetime for later use\n",
    "- Other columns is appropriate "
   ]
  },
  {
   "cell_type": "markdown",
   "id": "6b12edd0",
   "metadata": {},
   "source": [
    "#### Convert columns into appropriate dtype\n",
    "- `release_date` converts into datetime dtype\n",
    "- `genre` converts into string dtype\n",
    "- `mapaa_rating` converts into string dtype"
   ]
  },
  {
   "cell_type": "code",
   "execution_count": 70,
   "id": "8d4e9a3e",
   "metadata": {},
   "outputs": [],
   "source": [
    "movies_gross.loc[:,'release_date'] = pd.to_datetime(movies_gross.loc[:,'release_date'],format='%Y/%m/%d')\n",
    "movies_gross.loc[:,'genre'] = movies_gross.loc[:,'genre'].astype(str)\n",
    "movies_gross.loc[:,'mpaa_rating'] = movies_gross.loc[:,'mpaa_rating'].astype(str)"
   ]
  },
  {
   "cell_type": "markdown",
   "id": "40b341ec",
   "metadata": {},
   "source": [
    "### Are there duplicated rows?"
   ]
  },
  {
   "cell_type": "code",
   "execution_count": 47,
   "id": "9508ca3b",
   "metadata": {},
   "outputs": [
    {
     "data": {
      "text/plain": [
       "False"
      ]
     },
     "execution_count": 47,
     "metadata": {},
     "output_type": "execute_result"
    }
   ],
   "source": [
    "have_duplicated_rows = movies_gross.duplicated().any()\n",
    "have_duplicated_rows"
   ]
  },
  {
   "cell_type": "markdown",
   "id": "4507e1a7",
   "metadata": {},
   "source": [
    "### What is the meaning of each row?"
   ]
  },
  {
   "cell_type": "markdown",
   "id": "78c5c160",
   "metadata": {},
   "source": [
    "Each row is a pack of information of a single movie"
   ]
  },
  {
   "cell_type": "code",
   "execution_count": 135,
   "id": "caf585c2",
   "metadata": {},
   "outputs": [
    {
     "data": {
      "text/html": [
       "<div>\n",
       "<style scoped>\n",
       "    .dataframe tbody tr th:only-of-type {\n",
       "        vertical-align: middle;\n",
       "    }\n",
       "\n",
       "    .dataframe tbody tr th {\n",
       "        vertical-align: top;\n",
       "    }\n",
       "\n",
       "    .dataframe thead th {\n",
       "        text-align: right;\n",
       "    }\n",
       "</style>\n",
       "<table border=\"1\" class=\"dataframe\">\n",
       "  <thead>\n",
       "    <tr style=\"text-align: right;\">\n",
       "      <th></th>\n",
       "      <th>movie_title</th>\n",
       "      <th>release_date</th>\n",
       "      <th>genre</th>\n",
       "      <th>mpaa_rating</th>\n",
       "      <th>total_gross</th>\n",
       "      <th>inflation_adjusted_gross</th>\n",
       "    </tr>\n",
       "  </thead>\n",
       "  <tbody>\n",
       "    <tr>\n",
       "      <th>558</th>\n",
       "      <td>Avengers: Age of Ultron</td>\n",
       "      <td>2015-05-01</td>\n",
       "      <td>Action</td>\n",
       "      <td>PG-13</td>\n",
       "      <td>459005868.0</td>\n",
       "      <td>459005868.0</td>\n",
       "    </tr>\n",
       "  </tbody>\n",
       "</table>\n",
       "</div>"
      ],
      "text/plain": [
       "                 movie_title release_date   genre mpaa_rating  total_gross  \\\n",
       "558  Avengers: Age of Ultron   2015-05-01  Action       PG-13  459005868.0   \n",
       "\n",
       "     inflation_adjusted_gross  \n",
       "558               459005868.0  "
      ]
     },
     "execution_count": 135,
     "metadata": {},
     "output_type": "execute_result"
    }
   ],
   "source": [
    "movies_gross.sample(1)"
   ]
  },
  {
   "cell_type": "markdown",
   "id": "4f5eac55",
   "metadata": {},
   "source": [
    "### With each numerical column, how are values distributed? - What is the percentage of missing values? - Min? max? Are they abnormal?\n",
    "\n",
    "- We arrange `release_date`, `total_gross`, `inflation_adjusted_gross` column into numerical group\n",
    "- Each of columns we're going to merge `missing_ratio`, `min`, and `max` into one dataframe"
   ]
  },
  {
   "cell_type": "markdown",
   "id": "e257dae7",
   "metadata": {},
   "source": [
    "- `mpaa_rating` column is abnormal because the owner predetermine `nan` values as `string`\n",
    "-  `total_gross`, `inflation_adjusted_gross` column are abnormal because the owner predetermine `0` as `nan` value\n",
    "\n",
    "So we have to convert `nan` and `0` into appropriate `np.nan` value"
   ]
  },
  {
   "cell_type": "code",
   "execution_count": 168,
   "id": "08335307",
   "metadata": {},
   "outputs": [],
   "source": [
    "movies_gross.loc[:,'mpaa_rating'].replace('nan',np.nan,inplace=True)\n",
    "movies_gross.loc[:,'total_gross'].replace(0,np.nan,inplace=True)\n",
    "movies_gross.loc[:,'inflation_adjusted_gross'].replace(0,np.nan,inplace=True)\n",
    "movies_gross.loc[:,'genre'].replace('nan',np.nan,inplace=True)"
   ]
  },
  {
   "cell_type": "code",
   "execution_count": 133,
   "id": "070012ef",
   "metadata": {},
   "outputs": [
    {
     "data": {
      "text/html": [
       "<div>\n",
       "<style scoped>\n",
       "    .dataframe tbody tr th:only-of-type {\n",
       "        vertical-align: middle;\n",
       "    }\n",
       "\n",
       "    .dataframe tbody tr th {\n",
       "        vertical-align: top;\n",
       "    }\n",
       "\n",
       "    .dataframe thead th {\n",
       "        text-align: right;\n",
       "    }\n",
       "</style>\n",
       "<table border=\"1\" class=\"dataframe\">\n",
       "  <thead>\n",
       "    <tr style=\"text-align: right;\">\n",
       "      <th></th>\n",
       "      <th>release_date</th>\n",
       "      <th>total_gross</th>\n",
       "      <th>inflation_adjusted_gross</th>\n",
       "    </tr>\n",
       "  </thead>\n",
       "  <tbody>\n",
       "    <tr>\n",
       "      <th>missing_ratio</th>\n",
       "      <td>0.0</td>\n",
       "      <td>6.910000e-01</td>\n",
       "      <td>6.910000e-01</td>\n",
       "    </tr>\n",
       "    <tr>\n",
       "      <th>min</th>\n",
       "      <td>1937-12-21 00:00:00</td>\n",
       "      <td>2.815000e+03</td>\n",
       "      <td>2.984000e+03</td>\n",
       "    </tr>\n",
       "    <tr>\n",
       "      <th>max</th>\n",
       "      <td>2016-12-16 00:00:00</td>\n",
       "      <td>9.366622e+08</td>\n",
       "      <td>5.228953e+09</td>\n",
       "    </tr>\n",
       "  </tbody>\n",
       "</table>\n",
       "</div>"
      ],
      "text/plain": [
       "                      release_date   total_gross  inflation_adjusted_gross\n",
       "missing_ratio                  0.0  6.910000e-01              6.910000e-01\n",
       "min            1937-12-21 00:00:00  2.815000e+03              2.984000e+03\n",
       "max            2016-12-16 00:00:00  9.366622e+08              5.228953e+09"
      ]
     },
     "execution_count": 133,
     "metadata": {},
     "output_type": "execute_result"
    }
   ],
   "source": [
    "missing = []\n",
    "missing.append(round(movies_gross.loc[:,'release_date'].isna().sum() / movies_gross.loc[:,'release_date'].size * 100,3))\n",
    "missing.append(round(movies_gross.loc[:,'total_gross'].isna().sum() / movies_gross.loc[:,'total_gross'].size * 100,3))\n",
    "missing.append(round(movies_gross.loc[:,'inflation_adjusted_gross'].isna().sum() / movies_gross.loc[:,'inflation_adjusted_gross'].size * 100,3))\n",
    "\n",
    "minval = []\n",
    "minval.append(movies_gross.loc[:,'release_date'].min())\n",
    "minval.append(movies_gross.loc[:,'total_gross'].min())\n",
    "minval.append(movies_gross.loc[:,'inflation_adjusted_gross'].min())\n",
    "\n",
    "maxval = []\n",
    "maxval.append(movies_gross.loc[:,'release_date'].max())\n",
    "maxval.append(movies_gross.loc[:,'total_gross'].max())\n",
    "maxval.append(movies_gross.loc[:,'inflation_adjusted_gross'].max())\n",
    "\n",
    "pd.DataFrame([missing,minval,maxval],index=[\"missing_ratio\", \"min\", \"max\"],columns=[\"release_date\", \"total_gross\", \"inflation_adjusted_gross\"])\n"
   ]
  },
  {
   "cell_type": "markdown",
   "id": "bf6cd865",
   "metadata": {},
   "source": [
    "### With each categorical column, how are values distributed? - What is the percentage of missing values? - How many different values? Show a few. Are they abnormal?"
   ]
  },
  {
   "cell_type": "markdown",
   "id": "c7a43ecf",
   "metadata": {},
   "source": [
    "- We arrange `movie_title`, `genre`, `mpaa_rating` column into categorical group"
   ]
  },
  {
   "cell_type": "code",
   "execution_count": 217,
   "id": "13b4655d",
   "metadata": {},
   "outputs": [
    {
     "data": {
      "text/html": [
       "<div>\n",
       "<style scoped>\n",
       "    .dataframe tbody tr th:only-of-type {\n",
       "        vertical-align: middle;\n",
       "    }\n",
       "\n",
       "    .dataframe tbody tr th {\n",
       "        vertical-align: top;\n",
       "    }\n",
       "\n",
       "    .dataframe thead th {\n",
       "        text-align: right;\n",
       "    }\n",
       "</style>\n",
       "<table border=\"1\" class=\"dataframe\">\n",
       "  <thead>\n",
       "    <tr style=\"text-align: right;\">\n",
       "      <th></th>\n",
       "      <th>movie_title</th>\n",
       "      <th>genre</th>\n",
       "      <th>mpaa_rating</th>\n",
       "    </tr>\n",
       "  </thead>\n",
       "  <tbody>\n",
       "    <tr>\n",
       "      <th>missing_ratio</th>\n",
       "      <td>0.0</td>\n",
       "      <td>2.936097</td>\n",
       "      <td>9.671848</td>\n",
       "    </tr>\n",
       "    <tr>\n",
       "      <th>Unique</th>\n",
       "      <td>573</td>\n",
       "      <td>12</td>\n",
       "      <td>5</td>\n",
       "    </tr>\n",
       "    <tr>\n",
       "      <th>diff_val</th>\n",
       "      <td>[Snow White and the Seven Dwarfs, Pinocchio, F...</td>\n",
       "      <td>[Musical, Adventure, Drama, Comedy, Action, Ho...</td>\n",
       "      <td>[G, Not Rated, PG, R, PG-13]</td>\n",
       "    </tr>\n",
       "  </tbody>\n",
       "</table>\n",
       "</div>"
      ],
      "text/plain": [
       "                                                     movie_title  \\\n",
       "missing_ratio                                                0.0   \n",
       "Unique                                                       573   \n",
       "diff_val       [Snow White and the Seven Dwarfs, Pinocchio, F...   \n",
       "\n",
       "                                                           genre  \\\n",
       "missing_ratio                                           2.936097   \n",
       "Unique                                                        12   \n",
       "diff_val       [Musical, Adventure, Drama, Comedy, Action, Ho...   \n",
       "\n",
       "                                mpaa_rating  \n",
       "missing_ratio                      9.671848  \n",
       "Unique                                    5  \n",
       "diff_val       [G, Not Rated, PG, R, PG-13]  "
      ]
     },
     "execution_count": 217,
     "metadata": {},
     "output_type": "execute_result"
    }
   ],
   "source": [
    "missing = []\n",
    "missing.append(movies_gross.loc[:,'movie_title'].isna().sum() / movies_gross.loc[:,'movie_title'].size * 100)\n",
    "missing.append(movies_gross.loc[:,'genre'].isna().sum() / movies_gross.loc[:,'genre'].size * 100)\n",
    "missing.append(movies_gross.loc[:,'mpaa_rating'].isna().sum() / movies_gross.loc[:,'mpaa_rating'].size * 100)\n",
    "\n",
    "unique = []\n",
    "unique.append(movies_gross.loc[:,'movie_title'].nunique(dropna=True))\n",
    "unique.append(movies_gross.loc[:,'genre'].nunique(dropna=True))\n",
    "unique.append(movies_gross.loc[:,'mpaa_rating'].nunique(dropna=True))\n",
    "\n",
    "diff_val = []\n",
    "diff_val.append(movies_gross.loc[:,'movie_title'].dropna().unique())\n",
    "diff_val.append(movies_gross.loc[:,'genre'].dropna().unique())\n",
    "diff_val.append(movies_gross.loc[:,'mpaa_rating'].dropna().unique())\n",
    "\n",
    "pd.DataFrame([missing,unique,diff_val],index=[\"missing_ratio\",\"Unique\",'diff_val'],columns=[\"movie_title\", \"genre\", \"mpaa_rating\"])\n",
    "\n"
   ]
  },
  {
   "cell_type": "markdown",
   "id": "0340870f",
   "metadata": {},
   "source": [
    "- We are noticing no abnormal in categroical group"
   ]
  },
  {
   "cell_type": "markdown",
   "id": "9f31c0b1",
   "metadata": {},
   "source": [
    "## 3. Asking meaningful questions\n",
    "\n",
    "Your group needs to give ≥ `the-number-of-group-members`\n",
    "questions which can be answered with this data. Each\n",
    "question should be `meaningful` (what are benefits of finding\n",
    "the answer?) and `not too easy to answer` (e.g., it’s too easy if\n",
    "we just need one line of code to get the answer). Your\n",
    "group should focus more on `the quality of questions` than\n",
    "the quantity.\n",
    "\n",
    "In notebook file, with each question, your group needs to\n",
    "present:\n",
    "\n",
    "• What is the question?\n",
    "- Which genres give out most total gross and least in total (thể loại nào đem lại lợi nhuận cao nhất và thấp nhất)\n",
    "- (Kiểm tra các nhân vật nào được yêu thích nhất và phim thuộc vào thể loại nào và đạo diễn với voice actor là ai (nếu có) )\n",
    "- xem xét tổng thu nhập các phim action, phiêu lưu trc thế kỷ 20 và sau thế kỷ 20 (cột inflation) \n",
    "\n",
    "\n",
    "• What are benefits of finding the answer?\n",
    "- To examine which genres should Disney zero in on to produce the best quality, story for upcoming films  \n",
    "(xem xét thể loại nào mà Disney tập trung vào để cho ra những bộ phim kế tiếp có chất lượng, câu truyện tốt nhất, và tránh những thể loại mang lại thu nhập thấp)\n",
    "- Để xem xét các quality của phim tập trung vào voice actor và đạo diễn nào và có thể phim kế tiếp trùng genres thì ta có thể mời người đó làm đạo diễn \n",
    "- Để xem có khác biệt về thu thập cho chúng ta biết theo thời gian disney có phải ngày càng làm phim tệ hay phim làm ra hoặc hợp tác ngày càng hay và vẫn thu hút được mọi người"
   ]
  },
  {
   "cell_type": "code",
   "execution_count": 218,
   "id": "8413e1a4",
   "metadata": {},
   "outputs": [
    {
     "data": {
      "text/html": [
       "<div>\n",
       "<style scoped>\n",
       "    .dataframe tbody tr th:only-of-type {\n",
       "        vertical-align: middle;\n",
       "    }\n",
       "\n",
       "    .dataframe tbody tr th {\n",
       "        vertical-align: top;\n",
       "    }\n",
       "\n",
       "    .dataframe thead th {\n",
       "        text-align: right;\n",
       "    }\n",
       "</style>\n",
       "<table border=\"1\" class=\"dataframe\">\n",
       "  <thead>\n",
       "    <tr style=\"text-align: right;\">\n",
       "      <th></th>\n",
       "      <th>movie_title</th>\n",
       "      <th>release_date</th>\n",
       "      <th>genre</th>\n",
       "      <th>mpaa_rating</th>\n",
       "      <th>total_gross</th>\n",
       "      <th>inflation_adjusted_gross</th>\n",
       "    </tr>\n",
       "  </thead>\n",
       "  <tbody>\n",
       "    <tr>\n",
       "      <th>0</th>\n",
       "      <td>Snow White and the Seven Dwarfs</td>\n",
       "      <td>1937-12-21</td>\n",
       "      <td>Musical</td>\n",
       "      <td>G</td>\n",
       "      <td>184925485.0</td>\n",
       "      <td>5.228953e+09</td>\n",
       "    </tr>\n",
       "    <tr>\n",
       "      <th>1</th>\n",
       "      <td>Pinocchio</td>\n",
       "      <td>1940-02-09</td>\n",
       "      <td>Adventure</td>\n",
       "      <td>G</td>\n",
       "      <td>84300000.0</td>\n",
       "      <td>2.188229e+09</td>\n",
       "    </tr>\n",
       "    <tr>\n",
       "      <th>2</th>\n",
       "      <td>Fantasia</td>\n",
       "      <td>1940-11-13</td>\n",
       "      <td>Musical</td>\n",
       "      <td>G</td>\n",
       "      <td>83320000.0</td>\n",
       "      <td>2.187091e+09</td>\n",
       "    </tr>\n",
       "    <tr>\n",
       "      <th>3</th>\n",
       "      <td>Song of the South</td>\n",
       "      <td>1946-11-12</td>\n",
       "      <td>Adventure</td>\n",
       "      <td>G</td>\n",
       "      <td>65000000.0</td>\n",
       "      <td>1.078511e+09</td>\n",
       "    </tr>\n",
       "    <tr>\n",
       "      <th>4</th>\n",
       "      <td>Cinderella</td>\n",
       "      <td>1950-02-15</td>\n",
       "      <td>Drama</td>\n",
       "      <td>G</td>\n",
       "      <td>85000000.0</td>\n",
       "      <td>9.206087e+08</td>\n",
       "    </tr>\n",
       "  </tbody>\n",
       "</table>\n",
       "</div>"
      ],
      "text/plain": [
       "                       movie_title release_date      genre mpaa_rating  \\\n",
       "0  Snow White and the Seven Dwarfs   1937-12-21    Musical           G   \n",
       "1                        Pinocchio   1940-02-09  Adventure           G   \n",
       "2                         Fantasia   1940-11-13    Musical           G   \n",
       "3                Song of the South   1946-11-12  Adventure           G   \n",
       "4                       Cinderella   1950-02-15      Drama           G   \n",
       "\n",
       "   total_gross  inflation_adjusted_gross  \n",
       "0  184925485.0              5.228953e+09  \n",
       "1   84300000.0              2.188229e+09  \n",
       "2   83320000.0              2.187091e+09  \n",
       "3   65000000.0              1.078511e+09  \n",
       "4   85000000.0              9.206087e+08  "
      ]
     },
     "execution_count": 218,
     "metadata": {},
     "output_type": "execute_result"
    }
   ],
   "source": [
    "movies_gross.head()"
   ]
  },
  {
   "cell_type": "code",
   "execution_count": 231,
   "id": "c70feacc",
   "metadata": {},
   "outputs": [
    {
     "data": {
      "text/html": [
       "<div>\n",
       "<style scoped>\n",
       "    .dataframe tbody tr th:only-of-type {\n",
       "        vertical-align: middle;\n",
       "    }\n",
       "\n",
       "    .dataframe tbody tr th {\n",
       "        vertical-align: top;\n",
       "    }\n",
       "\n",
       "    .dataframe thead th {\n",
       "        text-align: right;\n",
       "    }\n",
       "</style>\n",
       "<table border=\"1\" class=\"dataframe\">\n",
       "  <thead>\n",
       "    <tr style=\"text-align: right;\">\n",
       "      <th></th>\n",
       "      <th>character</th>\n",
       "      <th>voice_actor</th>\n",
       "      <th>movie</th>\n",
       "    </tr>\n",
       "  </thead>\n",
       "  <tbody>\n",
       "    <tr>\n",
       "      <th>0</th>\n",
       "      <td>Abby Mallard</td>\n",
       "      <td>Joan Cusack</td>\n",
       "      <td>Chicken Little</td>\n",
       "    </tr>\n",
       "    <tr>\n",
       "      <th>1</th>\n",
       "      <td>Abigail Gabble</td>\n",
       "      <td>Monica Evans</td>\n",
       "      <td>The Aristocats</td>\n",
       "    </tr>\n",
       "    <tr>\n",
       "      <th>2</th>\n",
       "      <td>Abis Mal</td>\n",
       "      <td>Jason Alexander</td>\n",
       "      <td>The Return of Jafar</td>\n",
       "    </tr>\n",
       "    <tr>\n",
       "      <th>3</th>\n",
       "      <td>Abu</td>\n",
       "      <td>Frank Welker</td>\n",
       "      <td>Aladdin</td>\n",
       "    </tr>\n",
       "    <tr>\n",
       "      <th>4</th>\n",
       "      <td>Achilles</td>\n",
       "      <td>None</td>\n",
       "      <td>The Hunchback of Notre Dame</td>\n",
       "    </tr>\n",
       "  </tbody>\n",
       "</table>\n",
       "</div>"
      ],
      "text/plain": [
       "        character      voice_actor                        movie\n",
       "0    Abby Mallard      Joan Cusack               Chicken Little\n",
       "1  Abigail Gabble     Monica Evans               The Aristocats\n",
       "2        Abis Mal  Jason Alexander          The Return of Jafar\n",
       "3             Abu     Frank Welker                      Aladdin\n",
       "4        Achilles             None  The Hunchback of Notre Dame"
      ]
     },
     "execution_count": 231,
     "metadata": {},
     "output_type": "execute_result"
    }
   ],
   "source": [
    "df = pd.read_csv('Data/disney_voice_actors.csv')\n",
    "df.head(5)"
   ]
  },
  {
   "cell_type": "code",
   "execution_count": 232,
   "id": "73538933",
   "metadata": {},
   "outputs": [
    {
     "data": {
      "text/plain": [
       "(935, 3)"
      ]
     },
     "execution_count": 232,
     "metadata": {},
     "output_type": "execute_result"
    }
   ],
   "source": [
    "df.shape"
   ]
  },
  {
   "cell_type": "code",
   "execution_count": 244,
   "id": "9f26b071",
   "metadata": {},
   "outputs": [
    {
     "data": {
      "text/plain": [
       "array([ 1,  1,  1,  1,  1,  1,  1,  1,  1,  1,  1,  1,  1,  1,  1,  1,  1,\n",
       "        1,  1,  1,  1,  1,  1,  1,  1,  1,  1,  1,  1,  1,  1,  1,  1,  1,\n",
       "        1,  1,  1,  1,  1,  1,  1,  1,  1,  1,  1,  1,  1,  1,  1,  1,  1,\n",
       "        1,  1,  1,  1,  1,  1,  1,  1,  1,  1,  1,  1,  1,  1,  1,  1,  1,\n",
       "        1,  1,  1,  1,  1,  1,  1,  1,  1,  1,  1,  1,  1,  1,  1,  1,  1,\n",
       "        1,  1,  1,  1,  1,  1,  1,  1,  1,  1,  1,  1,  1,  1,  1,  1,  1,\n",
       "        1,  1,  1,  1,  1,  1,  1,  1,  1,  1,  1,  1,  1,  1,  1,  1,  1,\n",
       "        1,  1,  1,  1,  1,  1,  1,  1,  1,  1,  1,  1,  1,  1,  1,  1,  1,\n",
       "        1,  1,  1,  1,  1,  1,  1,  1,  1,  1,  1,  1,  1,  1,  1,  1,  1,\n",
       "        1,  1,  1,  1,  1,  1,  1,  1,  1,  1,  1,  1,  1,  1,  1,  1,  1,\n",
       "        1,  1,  1,  1,  1,  1,  1,  1,  1,  1,  1,  1,  1,  1,  1,  1,  1,\n",
       "        1,  1,  1,  1,  1,  1,  1,  1,  1,  1,  1,  1,  1,  1,  1,  1,  1,\n",
       "        1,  1,  1,  1,  1,  1,  1,  1,  1,  1,  1,  1,  1,  1,  1,  1,  1,\n",
       "        1,  1,  1,  1,  1,  1,  1,  1,  1,  1,  1,  1,  1,  1,  1,  1,  1,\n",
       "        1,  1,  1,  1,  1,  1,  1,  1,  1,  1,  1,  1,  1,  1,  1,  1,  1,\n",
       "        1,  1,  1,  1,  1,  1,  1,  1,  1,  1,  1,  1,  1,  1,  1,  1,  1,\n",
       "        1,  1,  1,  1,  1,  1,  1,  1,  1,  1,  1,  1,  1,  1,  1,  1,  1,\n",
       "        1,  1,  1,  1,  1,  1,  1,  1,  1,  1,  1,  1,  1,  1,  1,  1,  1,\n",
       "        1,  1,  1,  1,  1,  1,  1,  1,  1,  1,  1,  1,  1,  1,  1,  1,  1,\n",
       "        1,  1,  1,  1,  1,  1,  1,  1,  1,  1,  1,  1,  1,  1,  1,  1,  1,\n",
       "        1,  1,  1,  1,  1,  1,  1,  1,  1,  1,  1,  1,  1,  1,  1,  1,  1,\n",
       "        1,  1,  1,  1,  1,  1,  1,  1,  1,  1,  1,  1,  1,  1,  1,  1,  1,\n",
       "        1,  1,  1,  1,  1,  1,  1,  1,  1,  1,  1,  1,  1,  1,  1,  1,  1,\n",
       "        1,  1,  1,  1,  1,  1,  1,  1,  1,  1,  1,  1,  1,  1,  1,  1,  1,\n",
       "        1,  1,  1,  1,  1,  1,  1,  1,  1,  1,  1,  1,  1,  1,  1,  1,  1,\n",
       "        1,  1,  1,  1,  1,  1,  1,  1,  1,  1,  1,  1,  1,  1,  1,  1,  1,\n",
       "        1,  1,  1,  1,  1,  1,  1,  1,  1,  1,  1,  1,  1,  1,  1,  1,  1,\n",
       "        1,  1,  1,  1,  1,  1,  1,  1,  1,  1,  1,  1,  1,  1,  1,  1,  1,\n",
       "        1,  1,  1,  1,  1,  1,  1,  1,  1,  1,  1,  1,  1,  1,  1,  1,  1,\n",
       "        1,  1,  1,  1,  1,  1,  1,  1,  1,  1,  1,  1,  1,  1,  1,  1,  1,\n",
       "        1,  1,  1,  1,  1,  1,  1,  1,  1,  1,  1,  1,  1,  1,  1,  1,  1,\n",
       "        1,  1,  1,  1,  1,  1,  1,  1,  1,  1,  1,  1,  1,  1,  1,  1,  1,\n",
       "        1,  1,  1,  1,  1,  1,  1,  2,  2,  2,  2,  2,  2,  2,  2,  2,  2,\n",
       "        2,  2,  2,  2,  2,  2,  2,  2,  2,  2,  2,  2,  2,  2,  2,  2,  2,\n",
       "        2,  2,  2,  2,  2,  2,  2,  2,  2,  2,  2,  2,  2,  2,  2,  2,  2,\n",
       "        2,  2,  2,  2,  2,  2,  2,  2,  2,  2,  2,  2,  2,  2,  2,  2,  2,\n",
       "        2,  2,  2,  2,  2,  3,  3,  3,  3,  3,  3,  3,  3,  3,  3,  3,  3,\n",
       "        3,  3,  3,  3,  3,  4,  4,  4,  4,  4,  4,  4,  5,  5,  6,  6,  6,\n",
       "        6,  7,  7,  7,  8,  8,  8, 17, 24, 53])"
      ]
     },
     "execution_count": 244,
     "metadata": {},
     "output_type": "execute_result"
    }
   ],
   "source": [
    "b, counts = np.unique(df.loc[:,'voice_actor'],return_counts=True)\n",
    "sort_idx = np.argsort(counts,kind='stable')\n",
    "\n"
   ]
  },
  {
   "cell_type": "code",
   "execution_count": null,
   "id": "6c4a6125",
   "metadata": {},
   "outputs": [],
   "source": []
  },
  {
   "cell_type": "markdown",
   "id": "2e8e1243",
   "metadata": {},
   "source": [
    "## 4. Preprocessing + analyzing data to answer each question\n",
    "\n",
    "With each question:\n",
    "• Does it need to have preprocessing step, and if yes,\n",
    "how does your group preprocess?\n",
    "\n",
    "• Text: sketch steps `clearly` so that readers can\n",
    "understand how your group preprocesses even without\n",
    "reading code\n",
    "\n",
    "• Code: implement sketched steps. Your group should\n",
    "also try to write code `clearly` (choose good variable\n",
    "names, comment where should be commented, don’t\n",
    "let a line too long)\n",
    "\n",
    "• How does your group analyze data to answer the\n",
    "question?\n",
    "\n",
    "• Text: similar to above\n",
    "\n",
    "• Code: similar to above"
   ]
  },
  {
   "cell_type": "markdown",
   "id": "a80520da",
   "metadata": {},
   "source": [
    "## 5. Reflection\n",
    "\n",
    "• Each member: What difficulties have you encountered?\n",
    "\n",
    "• Each member: What have you learned?\n",
    "\n",
    "• Your group: If you had more time, what would you do?"
   ]
  },
  {
   "cell_type": "markdown",
   "id": "01ccf27b",
   "metadata": {},
   "source": [
    "## 6. References and Footnote\n",
    "To finish this project, what materials have you consulted?\n",
    "\n",
    "\n",
    "\n",
    "(1): `Box office gross` -> Revenue generated from ticket sales (receipts) including any taxes and other levies.  \n",
    "(2): `MPAA ratings` -> The MPAA rating system is a voluntary film-rating system created by the Motion Picture Association of America (MPAA) and the National Association of Theatre Owners (NATO) to determine a movie's suitability for audiences and age groups based on content.  \n",
    "(3): `CC-BY` -> it is the most open license. It allows the user to redistribute, to create derivatives, such as a translation, and even use the publication for commercial activities, provided that appropriate credit is given to the author (BY) and that the user indicates whether the publication has been changed."
   ]
  },
  {
   "cell_type": "code",
   "execution_count": null,
   "id": "56c7678f",
   "metadata": {},
   "outputs": [],
   "source": []
  }
 ],
 "metadata": {
  "kernelspec": {
   "display_name": "Python 3 (ipykernel)",
   "language": "python",
   "name": "python3"
  },
  "language_info": {
   "codemirror_mode": {
    "name": "ipython",
    "version": 3
   },
   "file_extension": ".py",
   "mimetype": "text/x-python",
   "name": "python",
   "nbconvert_exporter": "python",
   "pygments_lexer": "ipython3",
   "version": "3.8.8"
  }
 },
 "nbformat": 4,
 "nbformat_minor": 5
}
