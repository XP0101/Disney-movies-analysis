{
 "cells": [
  {
   "cell_type": "markdown",
   "id": "73ccb5a1",
   "metadata": {},
   "source": [
    "# FINAL PROJECT"
   ]
  },
  {
   "cell_type": "markdown",
   "id": "ee591e04",
   "metadata": {},
   "source": [
    "### Mandatory Library"
   ]
  },
  {
   "cell_type": "code",
   "execution_count": 1,
   "id": "5f64d08a",
   "metadata": {},
   "outputs": [],
   "source": [
    "import pandas as pd\n",
    "import numpy as np\n",
    "import matplotlib.pyplot as plt\n",
    "\n",
    "from matplotlib.patches import Patch #Adding a legend for manually coloured bars\n",
    "import datetime"
   ]
  },
  {
   "cell_type": "markdown",
   "id": "db6332d8",
   "metadata": {},
   "source": [
    "## 1. Collecting data\n",
    "\n",
    "• **What subject is your data about? What is the source of\n",
    "your data?**\n",
    "- Data is about Disney movies along with box office success, annual gross income and this dataset aims to seek relationship between box office gross (1) and MPAA ratings (2) in Disney movies\n",
    "- Source can be found [here](https://data.world/kgarrett/disney-character-success-00-16)\n",
    "- Description about data has 9 files, 23 columns. But for the sake of this final project we only  use a partial\n",
    "- What are the trends in the Walt Disney Studio’s box office data? How do certain characters contribute to the success or failure of a movie?\n",
    "    \n",
    "• **Do authors of this data allow you to use like this? You\n",
    "can check the data license**\n",
    "- The Author has published this data 5 years ago and this data is eligibled for everyone to use in `About this dataset` section\n",
    "- License: `CC-BY` (3)\n",
    "\n",
    "• **How did authors collect data?**\n",
    "- Data is obtained by 4 authors and their references according to their `DisneyReport.pdf`\n",
    "    - https://www.sugarcane.com/data/walt-disney-animation-studios-films-1\n",
    "    - http://www.the-numbers.com/movies/distributor/Walt-Disney\n",
    "    - https://en.wikipedia.org/wiki/List_of_Disney_animated_universe_characters\n",
    "    - https://en.wikipedia.org/wiki/The_Walt_Disney_Company#Financial_data\n",
    "- They utilize [import.io](https://www.import.io) to convert raw data into csv file"
   ]
  },
  {
   "cell_type": "markdown",
   "id": "a567b166",
   "metadata": {},
   "source": [
    "## 2. Exploring data \n",
    "### (often interleaved with preprocessing)\n",
    "\n",
    "• How many rows and how many columns?\n",
    "\n",
    "• What is the meaning of each row?\n",
    "\n",
    "• Are there `duplicated rows`?\n",
    "\n",
    "• What is the meaning of each column?\n",
    "\n",
    "\n",
    "• What is the current data type of each column? Are\n",
    "there columns having `inappropriate data types`?\n",
    "\n",
    "• With each numerical column, how are values\n",
    "distributed?\n",
    "    - What is the percentage of `missing values`?\n",
    "    - Min? max? Are they `abnormal`?\n",
    "\n",
    "• With each categorical column, how are values\n",
    "distributed?\n",
    "    - What is the percentage of `missing values`?\n",
    "    - How many different values? Show a few\n",
    "      Are they `abnormal`?"
   ]
  },
  {
   "cell_type": "markdown",
   "id": "a9f21294",
   "metadata": {},
   "source": [
    "### Read csv into Dataframe"
   ]
  },
  {
   "cell_type": "code",
   "execution_count": 2,
   "id": "262d02da",
   "metadata": {},
   "outputs": [
    {
     "data": {
      "text/html": [
       "<div>\n",
       "<style scoped>\n",
       "    .dataframe tbody tr th:only-of-type {\n",
       "        vertical-align: middle;\n",
       "    }\n",
       "\n",
       "    .dataframe tbody tr th {\n",
       "        vertical-align: top;\n",
       "    }\n",
       "\n",
       "    .dataframe thead th {\n",
       "        text-align: right;\n",
       "    }\n",
       "</style>\n",
       "<table border=\"1\" class=\"dataframe\">\n",
       "  <thead>\n",
       "    <tr style=\"text-align: right;\">\n",
       "      <th></th>\n",
       "      <th>movie_title</th>\n",
       "      <th>release_date</th>\n",
       "      <th>genre</th>\n",
       "      <th>mpaa_rating</th>\n",
       "      <th>total_gross</th>\n",
       "      <th>inflation_adjusted_gross</th>\n",
       "    </tr>\n",
       "  </thead>\n",
       "  <tbody>\n",
       "    <tr>\n",
       "      <th>42</th>\n",
       "      <td>My Science Project</td>\n",
       "      <td>1985-08-09</td>\n",
       "      <td>Comedy</td>\n",
       "      <td>NaN</td>\n",
       "      <td>4100000</td>\n",
       "      <td>9736051</td>\n",
       "    </tr>\n",
       "    <tr>\n",
       "      <th>437</th>\n",
       "      <td>The Wild</td>\n",
       "      <td>2006-04-14</td>\n",
       "      <td>Adventure</td>\n",
       "      <td>G</td>\n",
       "      <td>37384046</td>\n",
       "      <td>48114115</td>\n",
       "    </tr>\n",
       "    <tr>\n",
       "      <th>400</th>\n",
       "      <td>Home on the Range</td>\n",
       "      <td>2004-04-02</td>\n",
       "      <td>Comedy</td>\n",
       "      <td>PG</td>\n",
       "      <td>50026353</td>\n",
       "      <td>67910166</td>\n",
       "    </tr>\n",
       "    <tr>\n",
       "      <th>550</th>\n",
       "      <td>The Hundred-Foot Journey</td>\n",
       "      <td>2014-08-08</td>\n",
       "      <td>Romantic Comedy</td>\n",
       "      <td>PG</td>\n",
       "      <td>54235441</td>\n",
       "      <td>55961409</td>\n",
       "    </tr>\n",
       "    <tr>\n",
       "      <th>147</th>\n",
       "      <td>Indian Summer</td>\n",
       "      <td>1993-04-23</td>\n",
       "      <td>Comedy</td>\n",
       "      <td>R</td>\n",
       "      <td>14717851</td>\n",
       "      <td>29968953</td>\n",
       "    </tr>\n",
       "  </tbody>\n",
       "</table>\n",
       "</div>"
      ],
      "text/plain": [
       "                  movie_title release_date            genre mpaa_rating  \\\n",
       "42         My Science Project   1985-08-09           Comedy         NaN   \n",
       "437                  The Wild   2006-04-14        Adventure           G   \n",
       "400         Home on the Range   2004-04-02           Comedy          PG   \n",
       "550  The Hundred-Foot Journey   2014-08-08  Romantic Comedy          PG   \n",
       "147             Indian Summer   1993-04-23           Comedy           R   \n",
       "\n",
       "     total_gross  inflation_adjusted_gross  \n",
       "42       4100000                   9736051  \n",
       "437     37384046                  48114115  \n",
       "400     50026353                  67910166  \n",
       "550     54235441                  55961409  \n",
       "147     14717851                  29968953  "
      ]
     },
     "execution_count": 2,
     "metadata": {},
     "output_type": "execute_result"
    }
   ],
   "source": [
    "movies_gross = pd.read_csv('Data/disney_movies_total_gross.csv')\n",
    "movies_gross.sample(5)"
   ]
  },
  {
   "cell_type": "markdown",
   "id": "6ee5dcd4",
   "metadata": {},
   "source": [
    "### How many rows and how many columns?"
   ]
  },
  {
   "cell_type": "code",
   "execution_count": 3,
   "id": "4f12104a",
   "metadata": {},
   "outputs": [
    {
     "name": "stdout",
     "output_type": "stream",
     "text": [
      "rows:579\n",
      "columns:6\n"
     ]
    }
   ],
   "source": [
    "print(\"rows:\"+ str(movies_gross.shape[0]))\n",
    "print(\"columns:\"+ str(movies_gross.shape[1]))"
   ]
  },
  {
   "cell_type": "markdown",
   "id": "96f5a9c2",
   "metadata": {},
   "source": [
    "### What is the meaning of column and values?"
   ]
  },
  {
   "cell_type": "markdown",
   "id": "d74a7f94",
   "metadata": {},
   "source": [
    "- `movie_title` : title of a movie  \n",
    "- `release_date`: the date this movie release  \n",
    "- `genre`:  Genre of a movie  \n",
    "- `mpaa_rating`: MPAA ratings of a movie\n",
    "    - `G`: **General Audiences** All ages admitted. Nothing that would offend parents for viewing by children\n",
    "    \n",
    "    - `PG`: **Parental Guidance Suggested** Some material may not be suitable for children. Parents urged to give \"parental guidance\". May contain some material parents might not like for their young children.\n",
    "    \n",
    "    - `PG-13`: **Parents Strongly Cautioned** Some material may be inappropriate for children under 13. Parents are urged to be cautious. Some material may be inappropriate for pre-teenagers.\n",
    "    \n",
    "    - `R`: **Restricted** Under 17 requires accompanying parent or adult guardian. Contains some adult material. Parents are urged to learn more about the film before taking their young children with them.\n",
    "    \n",
    "    - `Not Rated`\n",
    "    \n",
    "- `total_gross`: Total gross of a movie   \n",
    "- `inflation_adjusted_gross`: inflation of a movies"
   ]
  },
  {
   "cell_type": "code",
   "execution_count": 4,
   "id": "d84c770f",
   "metadata": {},
   "outputs": [
    {
     "data": {
      "text/html": [
       "<div>\n",
       "<style scoped>\n",
       "    .dataframe tbody tr th:only-of-type {\n",
       "        vertical-align: middle;\n",
       "    }\n",
       "\n",
       "    .dataframe tbody tr th {\n",
       "        vertical-align: top;\n",
       "    }\n",
       "\n",
       "    .dataframe thead th {\n",
       "        text-align: right;\n",
       "    }\n",
       "</style>\n",
       "<table border=\"1\" class=\"dataframe\">\n",
       "  <thead>\n",
       "    <tr style=\"text-align: right;\">\n",
       "      <th></th>\n",
       "      <th>movie_title</th>\n",
       "      <th>release_date</th>\n",
       "      <th>genre</th>\n",
       "      <th>mpaa_rating</th>\n",
       "      <th>total_gross</th>\n",
       "      <th>inflation_adjusted_gross</th>\n",
       "    </tr>\n",
       "  </thead>\n",
       "  <tbody>\n",
       "    <tr>\n",
       "      <th>136</th>\n",
       "      <td>The Distinguished Gentleman</td>\n",
       "      <td>1992-12-04</td>\n",
       "      <td>Comedy</td>\n",
       "      <td>R</td>\n",
       "      <td>46434570</td>\n",
       "      <td>94349900</td>\n",
       "    </tr>\n",
       "  </tbody>\n",
       "</table>\n",
       "</div>"
      ],
      "text/plain": [
       "                     movie_title release_date   genre mpaa_rating  \\\n",
       "136  The Distinguished Gentleman   1992-12-04  Comedy           R   \n",
       "\n",
       "     total_gross  inflation_adjusted_gross  \n",
       "136     46434570                  94349900  "
      ]
     },
     "execution_count": 4,
     "metadata": {},
     "output_type": "execute_result"
    }
   ],
   "source": [
    "movies_gross.sample(1)"
   ]
  },
  {
   "cell_type": "markdown",
   "id": "7990ab1e",
   "metadata": {},
   "source": [
    "### What is the current data type of each column? Are there columns having inappropriate data types?"
   ]
  },
  {
   "cell_type": "code",
   "execution_count": 5,
   "id": "20bbfdfe",
   "metadata": {},
   "outputs": [],
   "source": [
    "def open_object_dtype(s):\n",
    "    dtypes = set()\n",
    "    dtypes = set(s.apply(type))\n",
    "    return dtypes"
   ]
  },
  {
   "cell_type": "code",
   "execution_count": 6,
   "id": "57fff757",
   "metadata": {},
   "outputs": [
    {
     "name": "stdout",
     "output_type": "stream",
     "text": [
      "movies_title :{<class 'str'>}\n",
      "release_date :{<class 'str'>}\n",
      "genre :{<class 'str'>, <class 'float'>}\n",
      "mpaa_rating :{<class 'str'>, <class 'float'>}\n",
      "total_gross :{<class 'int'>}\n",
      "inflation_adjusted_gross :{<class 'int'>}\n"
     ]
    }
   ],
   "source": [
    "print('movies_title :' + str(open_object_dtype(movies_gross['movie_title'])))\n",
    "print('release_date :' + str(open_object_dtype(movies_gross['release_date'])))\n",
    "print('genre :' + str(open_object_dtype(movies_gross['genre'])))\n",
    "print('mpaa_rating :' + str(open_object_dtype(movies_gross['mpaa_rating'])))\n",
    "print('total_gross :' + str(open_object_dtype(movies_gross['total_gross'])))\n",
    "print('inflation_adjusted_gross :' + str(open_object_dtype(movies_gross['inflation_adjusted_gross'])))"
   ]
  },
  {
   "cell_type": "markdown",
   "id": "5553e25b",
   "metadata": {},
   "source": [
    "- As we can see both `Genre` and `mpaa_rating` have the same dtypes of `str` and `float`\n",
    "- Since we have noticed so far, `release_date` needs converting to Datetime for later use\n",
    "- Other columns is appropriate "
   ]
  },
  {
   "cell_type": "markdown",
   "id": "6b12edd0",
   "metadata": {},
   "source": [
    "#### Convert columns into appropriate dtype\n",
    "- `release_date` converts into datetime dtype\n",
    "- `genre` converts into string dtype\n",
    "- `mapaa_rating` converts into string dtype"
   ]
  },
  {
   "cell_type": "code",
   "execution_count": 7,
   "id": "8d4e9a3e",
   "metadata": {},
   "outputs": [],
   "source": [
    "movies_gross.loc[:,'release_date'] = pd.to_datetime(movies_gross.loc[:,'release_date'],format='%Y/%m/%d')\n",
    "movies_gross.loc[:,'genre'] = movies_gross.loc[:,'genre'].astype(str)\n",
    "movies_gross.loc[:,'mpaa_rating'] = movies_gross.loc[:,'mpaa_rating'].astype(str)"
   ]
  },
  {
   "cell_type": "markdown",
   "id": "40b341ec",
   "metadata": {},
   "source": [
    "### Are there duplicated rows?"
   ]
  },
  {
   "cell_type": "code",
   "execution_count": 8,
   "id": "9508ca3b",
   "metadata": {},
   "outputs": [
    {
     "data": {
      "text/plain": [
       "False"
      ]
     },
     "execution_count": 8,
     "metadata": {},
     "output_type": "execute_result"
    }
   ],
   "source": [
    "have_duplicated_rows = movies_gross.duplicated().any()\n",
    "have_duplicated_rows"
   ]
  },
  {
   "cell_type": "markdown",
   "id": "4507e1a7",
   "metadata": {},
   "source": [
    "### What is the meaning of each row?"
   ]
  },
  {
   "cell_type": "markdown",
   "id": "78c5c160",
   "metadata": {},
   "source": [
    "Each row is a pack of information of a single movie"
   ]
  },
  {
   "cell_type": "code",
   "execution_count": 9,
   "id": "caf585c2",
   "metadata": {},
   "outputs": [
    {
     "data": {
      "text/html": [
       "<div>\n",
       "<style scoped>\n",
       "    .dataframe tbody tr th:only-of-type {\n",
       "        vertical-align: middle;\n",
       "    }\n",
       "\n",
       "    .dataframe tbody tr th {\n",
       "        vertical-align: top;\n",
       "    }\n",
       "\n",
       "    .dataframe thead th {\n",
       "        text-align: right;\n",
       "    }\n",
       "</style>\n",
       "<table border=\"1\" class=\"dataframe\">\n",
       "  <thead>\n",
       "    <tr style=\"text-align: right;\">\n",
       "      <th></th>\n",
       "      <th>movie_title</th>\n",
       "      <th>release_date</th>\n",
       "      <th>genre</th>\n",
       "      <th>mpaa_rating</th>\n",
       "      <th>total_gross</th>\n",
       "      <th>inflation_adjusted_gross</th>\n",
       "    </tr>\n",
       "  </thead>\n",
       "  <tbody>\n",
       "    <tr>\n",
       "      <th>466</th>\n",
       "      <td>College Road Trip</td>\n",
       "      <td>2008-03-07</td>\n",
       "      <td>Comedy</td>\n",
       "      <td>G</td>\n",
       "      <td>45610425</td>\n",
       "      <td>53550960</td>\n",
       "    </tr>\n",
       "  </tbody>\n",
       "</table>\n",
       "</div>"
      ],
      "text/plain": [
       "           movie_title release_date   genre mpaa_rating  total_gross  \\\n",
       "466  College Road Trip   2008-03-07  Comedy           G     45610425   \n",
       "\n",
       "     inflation_adjusted_gross  \n",
       "466                  53550960  "
      ]
     },
     "execution_count": 9,
     "metadata": {},
     "output_type": "execute_result"
    }
   ],
   "source": [
    "movies_gross.sample(1)"
   ]
  },
  {
   "cell_type": "markdown",
   "id": "4f5eac55",
   "metadata": {},
   "source": [
    "### With each numerical column, how are values distributed? - What is the percentage of missing values? - Min? max? Are they abnormal?\n",
    "\n",
    "- We arrange `release_date`, `total_gross`, `inflation_adjusted_gross` column into numerical group\n",
    "- Each of columns we're going to merge `missing_ratio`, `min`, and `max` into one dataframe"
   ]
  },
  {
   "cell_type": "markdown",
   "id": "e257dae7",
   "metadata": {},
   "source": [
    "- `mpaa_rating` column is abnormal because the owner predetermine `nan` values as `string`\n",
    "-  `total_gross`, `inflation_adjusted_gross` column are abnormal because the owner predetermine `0` as `nan` value\n",
    "\n",
    "So we have to convert `nan` and `0` into appropriate `np.nan` value"
   ]
  },
  {
   "cell_type": "code",
   "execution_count": 10,
   "id": "08335307",
   "metadata": {},
   "outputs": [],
   "source": [
    "movies_gross.loc[:,'mpaa_rating'].replace('nan',np.nan,inplace=True)\n",
    "movies_gross.loc[:,'total_gross'].replace(0,np.nan,inplace=True)\n",
    "movies_gross.loc[:,'inflation_adjusted_gross'].replace(0,np.nan,inplace=True)\n",
    "movies_gross.loc[:,'genre'].replace('nan',np.nan,inplace=True)"
   ]
  },
  {
   "cell_type": "code",
   "execution_count": 11,
   "id": "070012ef",
   "metadata": {},
   "outputs": [
    {
     "data": {
      "text/html": [
       "<div>\n",
       "<style scoped>\n",
       "    .dataframe tbody tr th:only-of-type {\n",
       "        vertical-align: middle;\n",
       "    }\n",
       "\n",
       "    .dataframe tbody tr th {\n",
       "        vertical-align: top;\n",
       "    }\n",
       "\n",
       "    .dataframe thead th {\n",
       "        text-align: right;\n",
       "    }\n",
       "</style>\n",
       "<table border=\"1\" class=\"dataframe\">\n",
       "  <thead>\n",
       "    <tr style=\"text-align: right;\">\n",
       "      <th></th>\n",
       "      <th>release_date</th>\n",
       "      <th>total_gross</th>\n",
       "      <th>inflation_adjusted_gross</th>\n",
       "    </tr>\n",
       "  </thead>\n",
       "  <tbody>\n",
       "    <tr>\n",
       "      <th>missing_ratio</th>\n",
       "      <td>0.0</td>\n",
       "      <td>6.910000e-01</td>\n",
       "      <td>6.910000e-01</td>\n",
       "    </tr>\n",
       "    <tr>\n",
       "      <th>min</th>\n",
       "      <td>1937-12-21 00:00:00</td>\n",
       "      <td>2.815000e+03</td>\n",
       "      <td>2.984000e+03</td>\n",
       "    </tr>\n",
       "    <tr>\n",
       "      <th>max</th>\n",
       "      <td>2016-12-16 00:00:00</td>\n",
       "      <td>9.366622e+08</td>\n",
       "      <td>5.228953e+09</td>\n",
       "    </tr>\n",
       "  </tbody>\n",
       "</table>\n",
       "</div>"
      ],
      "text/plain": [
       "                      release_date   total_gross  inflation_adjusted_gross\n",
       "missing_ratio                  0.0  6.910000e-01              6.910000e-01\n",
       "min            1937-12-21 00:00:00  2.815000e+03              2.984000e+03\n",
       "max            2016-12-16 00:00:00  9.366622e+08              5.228953e+09"
      ]
     },
     "execution_count": 11,
     "metadata": {},
     "output_type": "execute_result"
    }
   ],
   "source": [
    "missing = []\n",
    "missing.append(round(movies_gross.loc[:,'release_date'].isna().sum() / movies_gross.loc[:,'release_date'].size * 100,3))\n",
    "missing.append(round(movies_gross.loc[:,'total_gross'].isna().sum() / movies_gross.loc[:,'total_gross'].size * 100,3))\n",
    "missing.append(round(movies_gross.loc[:,'inflation_adjusted_gross'].isna().sum() / movies_gross.loc[:,'inflation_adjusted_gross'].size * 100,3))\n",
    "\n",
    "minval = []\n",
    "minval.append(movies_gross.loc[:,'release_date'].min())\n",
    "minval.append(movies_gross.loc[:,'total_gross'].min())\n",
    "minval.append(movies_gross.loc[:,'inflation_adjusted_gross'].min())\n",
    "\n",
    "maxval = []\n",
    "maxval.append(movies_gross.loc[:,'release_date'].max())\n",
    "maxval.append(movies_gross.loc[:,'total_gross'].max())\n",
    "maxval.append(movies_gross.loc[:,'inflation_adjusted_gross'].max())\n",
    "\n",
    "pd.DataFrame([missing,minval,maxval],index=[\"missing_ratio\", \"min\", \"max\"],columns=[\"release_date\", \"total_gross\", \"inflation_adjusted_gross\"])\n"
   ]
  },
  {
   "cell_type": "markdown",
   "id": "bf6cd865",
   "metadata": {},
   "source": [
    "### With each categorical column, how are values distributed? - What is the percentage of missing values? - How many different values? Show a few. Are they abnormal?"
   ]
  },
  {
   "cell_type": "markdown",
   "id": "c7a43ecf",
   "metadata": {},
   "source": [
    "- We arrange `movie_title`, `genre`, `mpaa_rating` column into categorical group"
   ]
  },
  {
   "cell_type": "code",
   "execution_count": 12,
   "id": "13b4655d",
   "metadata": {},
   "outputs": [
    {
     "data": {
      "text/html": [
       "<div>\n",
       "<style scoped>\n",
       "    .dataframe tbody tr th:only-of-type {\n",
       "        vertical-align: middle;\n",
       "    }\n",
       "\n",
       "    .dataframe tbody tr th {\n",
       "        vertical-align: top;\n",
       "    }\n",
       "\n",
       "    .dataframe thead th {\n",
       "        text-align: right;\n",
       "    }\n",
       "</style>\n",
       "<table border=\"1\" class=\"dataframe\">\n",
       "  <thead>\n",
       "    <tr style=\"text-align: right;\">\n",
       "      <th></th>\n",
       "      <th>movie_title</th>\n",
       "      <th>genre</th>\n",
       "      <th>mpaa_rating</th>\n",
       "    </tr>\n",
       "  </thead>\n",
       "  <tbody>\n",
       "    <tr>\n",
       "      <th>missing_ratio</th>\n",
       "      <td>0.0</td>\n",
       "      <td>2.936097</td>\n",
       "      <td>9.671848</td>\n",
       "    </tr>\n",
       "    <tr>\n",
       "      <th>Unique</th>\n",
       "      <td>573</td>\n",
       "      <td>12</td>\n",
       "      <td>5</td>\n",
       "    </tr>\n",
       "    <tr>\n",
       "      <th>diff_val</th>\n",
       "      <td>[Snow White and the Seven Dwarfs, Pinocchio, F...</td>\n",
       "      <td>[Musical, Adventure, Drama, Comedy, Action, Ho...</td>\n",
       "      <td>[G, Not Rated, PG, R, PG-13]</td>\n",
       "    </tr>\n",
       "  </tbody>\n",
       "</table>\n",
       "</div>"
      ],
      "text/plain": [
       "                                                     movie_title  \\\n",
       "missing_ratio                                                0.0   \n",
       "Unique                                                       573   \n",
       "diff_val       [Snow White and the Seven Dwarfs, Pinocchio, F...   \n",
       "\n",
       "                                                           genre  \\\n",
       "missing_ratio                                           2.936097   \n",
       "Unique                                                        12   \n",
       "diff_val       [Musical, Adventure, Drama, Comedy, Action, Ho...   \n",
       "\n",
       "                                mpaa_rating  \n",
       "missing_ratio                      9.671848  \n",
       "Unique                                    5  \n",
       "diff_val       [G, Not Rated, PG, R, PG-13]  "
      ]
     },
     "execution_count": 12,
     "metadata": {},
     "output_type": "execute_result"
    }
   ],
   "source": [
    "missing = []\n",
    "missing.append(movies_gross.loc[:,'movie_title'].isna().sum() / movies_gross.loc[:,'movie_title'].size * 100)\n",
    "missing.append(movies_gross.loc[:,'genre'].isna().sum() / movies_gross.loc[:,'genre'].size * 100)\n",
    "missing.append(movies_gross.loc[:,'mpaa_rating'].isna().sum() / movies_gross.loc[:,'mpaa_rating'].size * 100)\n",
    "\n",
    "unique = []\n",
    "unique.append(movies_gross.loc[:,'movie_title'].nunique(dropna=True))\n",
    "unique.append(movies_gross.loc[:,'genre'].nunique(dropna=True))\n",
    "unique.append(movies_gross.loc[:,'mpaa_rating'].nunique(dropna=True))\n",
    "\n",
    "diff_val = []\n",
    "diff_val.append(movies_gross.loc[:,'movie_title'].dropna().unique())\n",
    "diff_val.append(movies_gross.loc[:,'genre'].dropna().unique())\n",
    "diff_val.append(movies_gross.loc[:,'mpaa_rating'].dropna().unique())\n",
    "\n",
    "pd.DataFrame([missing,unique,diff_val],index=[\"missing_ratio\",\"Unique\",'diff_val'],columns=[\"movie_title\", \"genre\", \"mpaa_rating\"])\n",
    "\n"
   ]
  },
  {
   "cell_type": "markdown",
   "id": "0340870f",
   "metadata": {},
   "source": [
    "- We are noticing no abnormal in categroical group"
   ]
  },
  {
   "cell_type": "markdown",
   "id": "9f31c0b1",
   "metadata": {},
   "source": [
    "## 3. Asking meaningful questions\n",
    "\n",
    "Your group needs to give ≥ `the-number-of-group-members`\n",
    "questions which can be answered with this data. Each\n",
    "question should be `meaningful` (what are benefits of finding\n",
    "the answer?) and `not too easy to answer` (e.g., it’s too easy if\n",
    "we just need one line of code to get the answer). Your\n",
    "group should focus more on `the quality of questions` than\n",
    "the quantity.\n",
    "\n",
    "In notebook file, with each question, your group needs to\n",
    "present:\n",
    "\n",
    "• What are the question?\n",
    "- Which genres give out most total gross and least in total.\n",
    "- Scrutinizing dataset to have a aquisition of the most favorite characters, along with director.\n",
    "- Investigate business efficacy of both action and adventure genre on the latter and former 20th century.\n",
    "- How favorite customer genres trend differ over time?.\n",
    "\n",
    "\n",
    "• What are benefits of finding the answer?\n",
    "- To examine which genres should Disney zero in on to produce the best quality, story for upcoming films.\n",
    "- To consider should Disney invite directors and voice actors to participate in future films.\n",
    "- To see total gross in differences, whether Disney do any better than the past and still attracted more potential customers.\n",
    "- To which genres in the near future should Disney concentrate on."
   ]
  },
  {
   "cell_type": "markdown",
   "id": "2e8e1243",
   "metadata": {},
   "source": [
    "## 4. Preprocessing + analyzing data to answer each question\n",
    "\n",
    "With each question:\n",
    "\n",
    "• Does it need to have preprocessing step, and if yes,\n",
    "how does your group preprocess?\n",
    "\n",
    "• Text: sketch steps `clearly` so that readers can\n",
    "understand how your group preprocesses even without\n",
    "reading code\n",
    "\n",
    "• Code: implement sketched steps. Your group should\n",
    "also try to write code `clearly` (choose good variable\n",
    "names, comment where should be commented, don’t\n",
    "let a line too long)\n",
    "\n",
    "• How does your group analyze data to answer the\n",
    "question?"
   ]
  },
  {
   "cell_type": "markdown",
   "id": "e5a18438",
   "metadata": {},
   "source": [
    "### **Question 1:**\n",
    "**Which genres give out most total gross and least in total (thể loại nào đem lại lợi nhuận cao nhất và thấp nhất)**\n",
    "\n",
    "**Step-by-step ouline:**\n",
    "- Group by similar genres\n",
    "- Ascertain largest gross of a specific genre\n",
    "- Ascertain lowest gross of a specific genre"
   ]
  },
  {
   "cell_type": "code",
   "execution_count": 13,
   "id": "8ed9590a",
   "metadata": {
    "scrolled": true
   },
   "outputs": [
    {
     "name": "stdout",
     "output_type": "stream",
     "text": [
      "Film gives out the most adjusted gross is: Adventure\n",
      "With total of gross: 24561266158.0 USD\n",
      "\n",
      "Film gives out the least adjusted gross is: Concert/Performance\n",
      "With total of gross: 114821678.0 USD\n"
     ]
    }
   ],
   "source": [
    "\n",
    "genre_total_gross = movies_gross.groupby('genre')['inflation_adjusted_gross'].sum()\n",
    "genre_max = genre_total_gross[genre_total_gross == genre_total_gross.max()]\n",
    "genre_min = genre_total_gross[genre_total_gross == genre_total_gross.min()]\n",
    "\n",
    "print('Film gives out the most adjusted gross is:',genre_max.index[0])\n",
    "print('With total of gross:',genre_max.values[0],'USD')\n",
    "print()\n",
    "print('Film gives out the least adjusted gross is:',genre_min.index[0])\n",
    "print('With total of gross:',genre_min.values[0],'USD')"
   ]
  },
  {
   "cell_type": "code",
   "execution_count": 14,
   "id": "edc2c05d",
   "metadata": {},
   "outputs": [
    {
     "data": {
      "image/png": "[encoded data removed]",
      "text/plain": [
       "<Figure size 576x576 with 1 Axes>"
      ]
     },
     "metadata": {},
     "output_type": "display_data"
    }
   ],
   "source": [
    "df = genre_total_gross.sort_values()\n",
    "temp = pd.Series([df.head(7).sum()],index = ['6 other genres'])\n",
    "df = df.add(temp, fill_value=0)\n",
    "df = df.sort_values().tail(6)\n",
    "\n",
    "ax = df.plot.pie(figsize=(8, 8),autopct='%1.1f%%',title ='asd',fontsize = 15)\n",
    "ax.set_ylabel('');\n",
    "ax.set_title('The ratio of the total gross of each film genre',fontsize =20);"
   ]
  },
  {
   "cell_type": "code",
   "execution_count": 15,
   "id": "731339f9",
   "metadata": {
    "scrolled": true
   },
   "outputs": [
    {
     "name": "stdout",
     "output_type": "stream",
     "text": [
      "3 genres give out the most adjusted gross\n",
      "genre\n",
      "Concert/Performance    114821678.0\n",
      "Horror                 140483092.0\n",
      "Black Comedy           156730475.0\n",
      "Name: inflation_adjusted_gross, dtype: float64\n"
     ]
    }
   ],
   "source": [
    "print(\"3 genres give out the most adjusted gross\")\n",
    "print(genre_total_gross.sort_values().head(3))"
   ]
  },
  {
   "cell_type": "code",
   "execution_count": 16,
   "id": "8489da13",
   "metadata": {},
   "outputs": [
    {
     "data": {
      "image/png": "[encoded data removed]",
      "text/plain": [
       "<Figure size 432x288 with 1 Axes>"
      ]
     },
     "metadata": {
      "needs_background": "light"
     },
     "output_type": "display_data"
    }
   ],
   "source": [
    "df = genre_total_gross.sort_values().head(3)\n",
    "my_colors = ['red','blue','orange']\n",
    "ax =df.plot.bar(rot=0,color= my_colors)\n",
    "ax.set_xlabel('Genre')\n",
    "ax.set_ylabel('Adjusted gross');"
   ]
  },
  {
   "cell_type": "code",
   "execution_count": 17,
   "id": "4f44f3a3",
   "metadata": {},
   "outputs": [
    {
     "name": "stdout",
     "output_type": "stream",
     "text": [
      "3 genres give out the least adjusted gross\n",
      "genre\n",
      "Musical      9.657566e+09\n",
      "Comedy       1.540953e+10\n",
      "Adventure    2.456127e+10\n",
      "Name: inflation_adjusted_gross, dtype: float64\n"
     ]
    }
   ],
   "source": [
    "print(\"3 genres give out the least adjusted gross\")\n",
    "print(genre_total_gross.sort_values().tail(3))"
   ]
  },
  {
   "cell_type": "code",
   "execution_count": 18,
   "id": "76c3921d",
   "metadata": {},
   "outputs": [
    {
     "data": {
      "image/png": "[encoded data removed]",
      "text/plain": [
       "<Figure size 432x288 with 1 Axes>"
      ]
     },
     "metadata": {
      "needs_background": "light"
     },
     "output_type": "display_data"
    }
   ],
   "source": [
    "df = genre_total_gross.sort_values().tail(3)\n",
    "my_colors = ['red','pink','blue']\n",
    "ax =df.plot.bar(rot=0,color= my_colors)\n",
    "ax.set_xlabel('Genre')\n",
    "ax.set_ylabel('Adjusted gross');"
   ]
  },
  {
   "cell_type": "markdown",
   "id": "19874afc",
   "metadata": {},
   "source": [
    "**Assessing:**\n",
    "- Being an amusing cooperation, perhaps `horror` or `black comedy` or `Concert/Performance` is not one of their advantages. However, `musical`, `Comedy` or `Adventure` are the genres they need to focus in more and put more strenuous effort to boost their gross and marketing their slogan"
   ]
  },
  {
   "cell_type": "markdown",
   "id": "32810880",
   "metadata": {},
   "source": [
    "### Question 2:\n",
    "**Scrutinizing dataset to have a aquisition of the most favorite characters, along with director**\n",
    "\n",
    "**Step-by-step outline:**\n",
    "- Read `Disney_characters.csv` and `disney_director.csv`\n",
    "- Join 3 tables by `movie_title`\n",
    "- Find top_5 movies give out highest gross"
   ]
  },
  {
   "cell_type": "code",
   "execution_count": 19,
   "id": "7c6cb2c2",
   "metadata": {},
   "outputs": [],
   "source": [
    "df_character = pd.read_csv('Data/disney_characters.csv')\n",
    "df_character.loc[:,'movie_title'] = df_character['movie_title'].str.strip()\n",
    "df_reduce_character = df_character.loc[:,['movie_title','hero','villian']]"
   ]
  },
  {
   "cell_type": "code",
   "execution_count": 20,
   "id": "809e7ed4",
   "metadata": {},
   "outputs": [
    {
     "data": {
      "text/html": [
       "<div>\n",
       "<style scoped>\n",
       "    .dataframe tbody tr th:only-of-type {\n",
       "        vertical-align: middle;\n",
       "    }\n",
       "\n",
       "    .dataframe tbody tr th {\n",
       "        vertical-align: top;\n",
       "    }\n",
       "\n",
       "    .dataframe thead th {\n",
       "        text-align: right;\n",
       "    }\n",
       "</style>\n",
       "<table border=\"1\" class=\"dataframe\">\n",
       "  <thead>\n",
       "    <tr style=\"text-align: right;\">\n",
       "      <th></th>\n",
       "      <th>movie_title</th>\n",
       "      <th>release_date</th>\n",
       "      <th>genre</th>\n",
       "      <th>mpaa_rating</th>\n",
       "      <th>total_gross</th>\n",
       "      <th>inflation_adjusted_gross</th>\n",
       "      <th>hero</th>\n",
       "      <th>villian</th>\n",
       "      <th>director</th>\n",
       "    </tr>\n",
       "  </thead>\n",
       "  <tbody>\n",
       "    <tr>\n",
       "      <th>380</th>\n",
       "      <td>Snow White and the Seven Dwarfs</td>\n",
       "      <td>1937-12-21</td>\n",
       "      <td>Musical</td>\n",
       "      <td>G</td>\n",
       "      <td>184925485.0</td>\n",
       "      <td>5.228953e+09</td>\n",
       "      <td>Snow White</td>\n",
       "      <td>Evil Queen</td>\n",
       "      <td>David Hand</td>\n",
       "    </tr>\n",
       "    <tr>\n",
       "      <th>324</th>\n",
       "      <td>Pinocchio</td>\n",
       "      <td>1940-02-09</td>\n",
       "      <td>Adventure</td>\n",
       "      <td>G</td>\n",
       "      <td>84300000.0</td>\n",
       "      <td>2.188229e+09</td>\n",
       "      <td>Pinocchio</td>\n",
       "      <td>Stromboli</td>\n",
       "      <td>Ben Sharpsteen</td>\n",
       "    </tr>\n",
       "    <tr>\n",
       "      <th>154</th>\n",
       "      <td>Fantasia</td>\n",
       "      <td>1940-11-13</td>\n",
       "      <td>Musical</td>\n",
       "      <td>G</td>\n",
       "      <td>83320000.0</td>\n",
       "      <td>2.187091e+09</td>\n",
       "      <td>NaN</td>\n",
       "      <td>Chernabog</td>\n",
       "      <td>full credits</td>\n",
       "    </tr>\n",
       "    <tr>\n",
       "      <th>0</th>\n",
       "      <td>101 Dalmatians</td>\n",
       "      <td>1961-01-25</td>\n",
       "      <td>Comedy</td>\n",
       "      <td>G</td>\n",
       "      <td>153000000.0</td>\n",
       "      <td>1.362871e+09</td>\n",
       "      <td>NaN</td>\n",
       "      <td>NaN</td>\n",
       "      <td>Wolfgang Reitherman</td>\n",
       "    </tr>\n",
       "    <tr>\n",
       "      <th>251</th>\n",
       "      <td>Lady and the Tramp</td>\n",
       "      <td>1955-06-22</td>\n",
       "      <td>Drama</td>\n",
       "      <td>G</td>\n",
       "      <td>93600000.0</td>\n",
       "      <td>1.236036e+09</td>\n",
       "      <td>Lady and Tramp</td>\n",
       "      <td>Si and Am</td>\n",
       "      <td>Hamilton Luske</td>\n",
       "    </tr>\n",
       "    <tr>\n",
       "      <th>383</th>\n",
       "      <td>Song of the South</td>\n",
       "      <td>1946-11-12</td>\n",
       "      <td>Adventure</td>\n",
       "      <td>G</td>\n",
       "      <td>65000000.0</td>\n",
       "      <td>1.078511e+09</td>\n",
       "      <td>NaN</td>\n",
       "      <td>NaN</td>\n",
       "      <td>NaN</td>\n",
       "    </tr>\n",
       "    <tr>\n",
       "      <th>390</th>\n",
       "      <td>Star Wars Ep. VII: The Force Awakens</td>\n",
       "      <td>2015-12-18</td>\n",
       "      <td>Adventure</td>\n",
       "      <td>PG-13</td>\n",
       "      <td>936662225.0</td>\n",
       "      <td>9.366622e+08</td>\n",
       "      <td>NaN</td>\n",
       "      <td>NaN</td>\n",
       "      <td>NaN</td>\n",
       "    </tr>\n",
       "    <tr>\n",
       "      <th>99</th>\n",
       "      <td>Cinderella</td>\n",
       "      <td>1950-02-15</td>\n",
       "      <td>Drama</td>\n",
       "      <td>G</td>\n",
       "      <td>85000000.0</td>\n",
       "      <td>9.206087e+08</td>\n",
       "      <td>Cinderella</td>\n",
       "      <td>Lady Tremaine</td>\n",
       "      <td>Wilfred Jackson</td>\n",
       "    </tr>\n",
       "    <tr>\n",
       "      <th>464</th>\n",
       "      <td>The Jungle Book</td>\n",
       "      <td>1967-10-18</td>\n",
       "      <td>Musical</td>\n",
       "      <td>Not Rated</td>\n",
       "      <td>141843000.0</td>\n",
       "      <td>7.896123e+08</td>\n",
       "      <td>Mowgli</td>\n",
       "      <td>Kaa and Shere Khan</td>\n",
       "      <td>Wolfgang Reitherman</td>\n",
       "    </tr>\n",
       "    <tr>\n",
       "      <th>475</th>\n",
       "      <td>The Lion King</td>\n",
       "      <td>1994-06-15</td>\n",
       "      <td>Adventure</td>\n",
       "      <td>G</td>\n",
       "      <td>422780140.0</td>\n",
       "      <td>7.616409e+08</td>\n",
       "      <td>Simba</td>\n",
       "      <td>Scar</td>\n",
       "      <td>Roger Allers</td>\n",
       "    </tr>\n",
       "  </tbody>\n",
       "</table>\n",
       "</div>"
      ],
      "text/plain": [
       "                              movie_title release_date      genre mpaa_rating  \\\n",
       "380       Snow White and the Seven Dwarfs   1937-12-21    Musical           G   \n",
       "324                             Pinocchio   1940-02-09  Adventure           G   \n",
       "154                              Fantasia   1940-11-13    Musical           G   \n",
       "0                          101 Dalmatians   1961-01-25     Comedy           G   \n",
       "251                    Lady and the Tramp   1955-06-22      Drama           G   \n",
       "383                     Song of the South   1946-11-12  Adventure           G   \n",
       "390  Star Wars Ep. VII: The Force Awakens   2015-12-18  Adventure       PG-13   \n",
       "99                             Cinderella   1950-02-15      Drama           G   \n",
       "464                       The Jungle Book   1967-10-18    Musical   Not Rated   \n",
       "475                         The Lion King   1994-06-15  Adventure           G   \n",
       "\n",
       "     total_gross  inflation_adjusted_gross            hero  \\\n",
       "380  184925485.0              5.228953e+09      Snow White   \n",
       "324   84300000.0              2.188229e+09       Pinocchio   \n",
       "154   83320000.0              2.187091e+09             NaN   \n",
       "0    153000000.0              1.362871e+09             NaN   \n",
       "251   93600000.0              1.236036e+09  Lady and Tramp   \n",
       "383   65000000.0              1.078511e+09             NaN   \n",
       "390  936662225.0              9.366622e+08             NaN   \n",
       "99    85000000.0              9.206087e+08      Cinderella   \n",
       "464  141843000.0              7.896123e+08          Mowgli   \n",
       "475  422780140.0              7.616409e+08           Simba   \n",
       "\n",
       "                villian             director  \n",
       "380          Evil Queen           David Hand  \n",
       "324           Stromboli       Ben Sharpsteen  \n",
       "154           Chernabog         full credits  \n",
       "0                   NaN  Wolfgang Reitherman  \n",
       "251           Si and Am       Hamilton Luske  \n",
       "383                 NaN                  NaN  \n",
       "390                 NaN                  NaN  \n",
       "99        Lady Tremaine      Wilfred Jackson  \n",
       "464  Kaa and Shere Khan  Wolfgang Reitherman  \n",
       "475                Scar         Roger Allers  "
      ]
     },
     "execution_count": 20,
     "metadata": {},
     "output_type": "execute_result"
    }
   ],
   "source": [
    "movies = movies_gross.copy()\n",
    "df_director = pd.read_csv('Data/disney_director.csv')\n",
    "\n",
    "df = movies.set_index('movie_title').join([df_reduce_character.set_index('movie_title'),df_director.set_index('name')]).reset_index()\n",
    "df = df.rename(columns={'index':'movie_title'})\n",
    "top_10 = df.sort_values('inflation_adjusted_gross',ascending=False)['inflation_adjusted_gross'].unique()[:10]\n",
    "df.sort_values('inflation_adjusted_gross',ascending=False).loc[df['inflation_adjusted_gross'].isin(top_10),:]"
   ]
  },
  {
   "cell_type": "markdown",
   "id": "0f40d350",
   "metadata": {},
   "source": [
    "**Assessing:**\n",
    "- Top 10 best movies were released before 20th century and a handful of hero, villian, director who made an excellent contribution to the movie.\n",
    "- This analysis recommends Disney to reconsider to make a movie that consists of all favorite characters for everyone to reminiscent of their childhood"
   ]
  },
  {
   "cell_type": "markdown",
   "id": "7136a141",
   "metadata": {},
   "source": [
    "### Question 3:\n",
    "**Investigate business efficacy of both action and adventure genre on the latter and former 20th century**\n",
    "\n",
    "**Step-by-step outline:**\n",
    "- Filter action and adventure films\n",
    "- Create another `year` column extracted from `release_date`\n",
    "- Group films before and after of the year 2000\n",
    "- Calculate total gross on `inflation_adjusted_gross`\n",
    "- Calculate mean gross each film in 2 periods \n",
    "- Conclusion"
   ]
  },
  {
   "cell_type": "code",
   "execution_count": 21,
   "id": "e239d8ce",
   "metadata": {},
   "outputs": [
    {
     "name": "stdout",
     "output_type": "stream",
     "text": [
      "Consider on both Action and Aventure film: \n",
      "\n",
      "Total adjusted gross before 20th century: 12152462471.0\n",
      "Number of films before 20th century: 75\n",
      "Released time: 1940 -> 2000 \n",
      "\n",
      "Total adjusted gross after 20th century: 17907740473.0\n",
      "Number of films after 20th century: 94\n",
      "Released time: 2001 -> 2016 \n",
      "\n"
     ]
    }
   ],
   "source": [
    "movies_gross['year'] = pd.DatetimeIndex(movies_gross['release_date']).year\n",
    "\n",
    "options = ['Action','Adventure']\n",
    "df = movies_gross[movies_gross['genre'].isin(options)]\n",
    "\n",
    "before_20th_df = df[df['year'] <= 2000] \n",
    "after_20th_df = df[df['year'] > 2000]\n",
    "total_gross_before20th = before_20th_df['inflation_adjusted_gross'].sum()\n",
    "total_gross_after20th = after_20th_df['inflation_adjusted_gross'].sum()\n",
    "\n",
    "num_films_before20th = before_20th_df['movie_title'].count()\n",
    "num_films_after20th = after_20th_df['movie_title'].count()\n",
    "\n",
    "print('Consider on both Action and Aventure film:','\\n')\n",
    "print('Total adjusted gross before 20th century:',total_gross_before20th)\n",
    "print('Number of films before 20th century:',num_films_before20th)\n",
    "print('Released time:',before_20th_df['year'].min(),'->',before_20th_df['year'].max(),'\\n')\n",
    "\n",
    "print('Total adjusted gross after 20th century:',total_gross_after20th)\n",
    "print('Number of films after 20th century:',num_films_after20th)\n",
    "print('Released time:',after_20th_df['year'].min(),'->',after_20th_df['year'].max(),'\\n')\n",
    "\n"
   ]
  },
  {
   "cell_type": "code",
   "execution_count": 22,
   "id": "0bdbc623",
   "metadata": {},
   "outputs": [
    {
     "data": {
      "image/png": "[encoded data removed]",
      "text/plain": [
       "<Figure size 360x576 with 2 Axes>"
      ]
     },
     "metadata": {
      "needs_background": "light"
     },
     "output_type": "display_data"
    }
   ],
   "source": [
    "data = {'time' : ['Before 20th century', 'After 20 century'],\n",
    "       'Number of films' : [num_films_before20th,num_films_after20th],\n",
    "       'Total adjusted gross' : [total_gross_before20th,total_gross_after20th]}\n",
    "df = pd.DataFrame.from_dict(data)\n",
    "fig = plt.figure(figsize=(5,8))\n",
    "ax1 = plt.subplot(1,1,1)\n",
    "ax1.bar(df.time,df['Number of films'], color = 'blue')\n",
    "ax1.set_ylabel('Number of films')\n",
    "\n",
    "\n",
    "ax2 = ax1.twinx()\n",
    "ax2.plot(df.time,df['Total adjusted gross'],'o-',color='#cf6a63',linewidth = 3)\n",
    "ax2.set_ylabel('Total adjusted gross')\n",
    "ax2.set_title('Compare data before and after the 20th century\\n', size=15)\n",
    "plt.show()"
   ]
  },
  {
   "cell_type": "code",
   "execution_count": 23,
   "id": "69a936b2",
   "metadata": {},
   "outputs": [
    {
     "name": "stdout",
     "output_type": "stream",
     "text": [
      "Mean gross before the 20th: 162032832.95\n",
      "Mean gross affter the 20th: 190507877.37\n",
      "(There has been a raise in action and adventure genres) \n",
      "\n",
      "Increase rate: 17.57 %\n"
     ]
    }
   ],
   "source": [
    "print('Mean gross before the 20th:',round(total_gross_before20th/num_films_before20th,2))\n",
    "print('Mean gross affter the 20th:',round(total_gross_after20th/num_films_after20th,2))\n",
    "print('(There has been a raise in action and adventure genres)','\\n')\n",
    "\n",
    "ratio = (total_gross_after20th/num_films_after20th) / (total_gross_before20th/num_films_before20th) - 1\n",
    "print('Increase rate:',ratio.round(4)*100,'%')"
   ]
  },
  {
   "cell_type": "code",
   "execution_count": 24,
   "id": "fdfb9404",
   "metadata": {},
   "outputs": [
    {
     "data": {
      "image/png": "[encoded data removed]",
      "text/plain": [
       "<Figure size 432x288 with 1 Axes>"
      ]
     },
     "metadata": {
      "needs_background": "light"
     },
     "output_type": "display_data"
    }
   ],
   "source": [
    "x = ['Before 20th century','After 20th century']\n",
    "y = [round(total_gross_before20th/num_films_before20th,2),round(total_gross_after20th/num_films_after20th,2)]\n",
    "\n",
    "plt.bar(x,y, color = 'orange');\n",
    "plt.title('Mean gross per movie before and after the 20th century\\n', fontsize = 15)\n",
    "plt.ylabel('Mean gross',fontsize = 12)\n",
    "plt.show()"
   ]
  },
  {
   "cell_type": "markdown",
   "id": "f9b07099",
   "metadata": {},
   "source": [
    "**Assessing:**\n",
    "- Business eficacy see a soar at both action and adventure genres.\n",
    "- Increase in number of produced films:\n",
    "    - Before 20th century, in **60 years** produced **75 films** \n",
    "    - After 20th century, in **15 years** produced **94 films** \n",
    "- Increase in total of income:\n",
    "    - Revenue growth rate on each films: **increase 17,57 %**"
   ]
  },
  {
   "cell_type": "markdown",
   "id": "ed54510f",
   "metadata": {},
   "source": [
    "### Question 4:\n",
    "**How favorite customer genres trend differ over time?**\n",
    "- To solve this question, I split into periods (1 period = 5 years). With each circle, we consider which genre Disney made the most and assessing customers trend\n",
    "\n",
    "\n",
    "- **Step-by-step outline:**\n",
    "    - Add `phase` column extracted from `year` column\n",
    "    - Over the course of `< 1940` merged into the first stage \n",
    "    - During the course of `> 2015` merged into the last stage (because dataset has a maximum datetime of 2016) \n",
    "    - Find out genre-trend in each interval\n",
    "    - Ascertain favorite genres trend"
   ]
  },
  {
   "cell_type": "code",
   "execution_count": 25,
   "id": "df06e9f4",
   "metadata": {
    "scrolled": false
   },
   "outputs": [
    {
     "name": "stderr",
     "output_type": "stream",
     "text": [
      "C:\\Users\\ASUS\\AppData\\Local\\Temp/ipykernel_10328/2995473150.py:25: SettingWithCopyWarning: \n",
      "A value is trying to be set on a copy of a slice from a DataFrame\n",
      "\n",
      "See the caveats in the documentation: https://pandas.pydata.org/pandas-docs/stable/user_guide/indexing.html#returning-a-view-versus-a-copy\n",
      "  df['phase'][0] = '1937 - 1944'\n",
      "C:\\Users\\ASUS\\AppData\\Local\\Temp/ipykernel_10328/2995473150.py:26: SettingWithCopyWarning: \n",
      "A value is trying to be set on a copy of a slice from a DataFrame\n",
      "\n",
      "See the caveats in the documentation: https://pandas.pydata.org/pandas-docs/stable/user_guide/indexing.html#returning-a-view-versus-a-copy\n",
      "  df['phase'][15] = '2015 - 2016'\n"
     ]
    },
    {
     "data": {
      "text/html": [
       "<div>\n",
       "<style scoped>\n",
       "    .dataframe tbody tr th:only-of-type {\n",
       "        vertical-align: middle;\n",
       "    }\n",
       "\n",
       "    .dataframe tbody tr th {\n",
       "        vertical-align: top;\n",
       "    }\n",
       "\n",
       "    .dataframe thead th {\n",
       "        text-align: right;\n",
       "    }\n",
       "</style>\n",
       "<table border=\"1\" class=\"dataframe\">\n",
       "  <thead>\n",
       "    <tr style=\"text-align: right;\">\n",
       "      <th></th>\n",
       "      <th>phase</th>\n",
       "      <th>genre trend</th>\n",
       "      <th>gross</th>\n",
       "    </tr>\n",
       "  </thead>\n",
       "  <tbody>\n",
       "    <tr>\n",
       "      <th>0</th>\n",
       "      <td>1937 - 1944</td>\n",
       "      <td>Musical</td>\n",
       "      <td>7.416044e+09</td>\n",
       "    </tr>\n",
       "    <tr>\n",
       "      <th>1</th>\n",
       "      <td>1945 - 1949</td>\n",
       "      <td>Adventure</td>\n",
       "      <td>1.078511e+09</td>\n",
       "    </tr>\n",
       "    <tr>\n",
       "      <th>2</th>\n",
       "      <td>1950 - 1954</td>\n",
       "      <td>Adventure</td>\n",
       "      <td>5.282800e+08</td>\n",
       "    </tr>\n",
       "    <tr>\n",
       "      <th>3</th>\n",
       "      <td>1955 - 1959</td>\n",
       "      <td>Drama</td>\n",
       "      <td>1.257541e+09</td>\n",
       "    </tr>\n",
       "    <tr>\n",
       "      <th>4</th>\n",
       "      <td>1960 - 1964</td>\n",
       "      <td>Comedy</td>\n",
       "      <td>1.782547e+09</td>\n",
       "    </tr>\n",
       "    <tr>\n",
       "      <th>5</th>\n",
       "      <td>1965 - 1969</td>\n",
       "      <td>Comedy</td>\n",
       "      <td>1.386127e+08</td>\n",
       "    </tr>\n",
       "    <tr>\n",
       "      <th>6</th>\n",
       "      <td>1970 - 1974</td>\n",
       "      <td>Musical</td>\n",
       "      <td>3.464669e+08</td>\n",
       "    </tr>\n",
       "    <tr>\n",
       "      <th>7</th>\n",
       "      <td>1975 - 1979</td>\n",
       "      <td>Comedy</td>\n",
       "      <td>2.293146e+08</td>\n",
       "    </tr>\n",
       "    <tr>\n",
       "      <th>8</th>\n",
       "      <td>1980 - 1984</td>\n",
       "      <td>Drama</td>\n",
       "      <td>1.285149e+08</td>\n",
       "    </tr>\n",
       "    <tr>\n",
       "      <th>9</th>\n",
       "      <td>1985 - 1989</td>\n",
       "      <td>Comedy</td>\n",
       "      <td>2.178017e+09</td>\n",
       "    </tr>\n",
       "    <tr>\n",
       "      <th>10</th>\n",
       "      <td>1990 - 1994</td>\n",
       "      <td>Comedy</td>\n",
       "      <td>3.331062e+09</td>\n",
       "    </tr>\n",
       "    <tr>\n",
       "      <th>11</th>\n",
       "      <td>1995 - 1999</td>\n",
       "      <td>Comedy</td>\n",
       "      <td>2.689599e+09</td>\n",
       "    </tr>\n",
       "    <tr>\n",
       "      <th>12</th>\n",
       "      <td>2000 - 2004</td>\n",
       "      <td>Comedy</td>\n",
       "      <td>2.163780e+09</td>\n",
       "    </tr>\n",
       "    <tr>\n",
       "      <th>13</th>\n",
       "      <td>2005 - 2009</td>\n",
       "      <td>Adventure</td>\n",
       "      <td>3.430663e+09</td>\n",
       "    </tr>\n",
       "    <tr>\n",
       "      <th>14</th>\n",
       "      <td>2010 - 2014</td>\n",
       "      <td>Adventure</td>\n",
       "      <td>4.418771e+09</td>\n",
       "    </tr>\n",
       "    <tr>\n",
       "      <th>15</th>\n",
       "      <td>2015 - 2016</td>\n",
       "      <td>Adventure</td>\n",
       "      <td>3.930500e+09</td>\n",
       "    </tr>\n",
       "  </tbody>\n",
       "</table>\n",
       "</div>"
      ],
      "text/plain": [
       "          phase genre trend         gross\n",
       "0   1937 - 1944     Musical  7.416044e+09\n",
       "1   1945 - 1949   Adventure  1.078511e+09\n",
       "2   1950 - 1954   Adventure  5.282800e+08\n",
       "3   1955 - 1959       Drama  1.257541e+09\n",
       "4   1960 - 1964      Comedy  1.782547e+09\n",
       "5   1965 - 1969      Comedy  1.386127e+08\n",
       "6   1970 - 1974     Musical  3.464669e+08\n",
       "7   1975 - 1979      Comedy  2.293146e+08\n",
       "8   1980 - 1984       Drama  1.285149e+08\n",
       "9   1985 - 1989      Comedy  2.178017e+09\n",
       "10  1990 - 1994      Comedy  3.331062e+09\n",
       "11  1995 - 1999      Comedy  2.689599e+09\n",
       "12  2000 - 2004      Comedy  2.163780e+09\n",
       "13  2005 - 2009   Adventure  3.430663e+09\n",
       "14  2010 - 2014   Adventure  4.418771e+09\n",
       "15  2015 - 2016   Adventure  3.930500e+09"
      ]
     },
     "execution_count": 25,
     "metadata": {},
     "output_type": "execute_result"
    }
   ],
   "source": [
    "df = movies_gross\n",
    "df['phase'] = ((df['year'] - 1940) / 5).apply(int)\n",
    "df.loc[df['year'] <1940, 'phase'] = 0\n",
    "df.loc[df['year'] >2015, 'phase'] = 15\n",
    "\n",
    "temp = df.groupby(['phase','genre'])['inflation_adjusted_gross'].sum()\n",
    "\n",
    "df = df.groupby(['phase','genre'])['genre'].count()\n",
    "df = df.unstack(1)\n",
    "\n",
    "df = df.idxmax(axis=1).to_frame()\n",
    "df.columns = ['genre trend']\n",
    "df = df.reset_index()\n",
    "df1= df.copy()\n",
    "\n",
    "list_phase = pd.array(df.phase)\n",
    "list_genre = pd.array(df['genre trend'])\n",
    "arr = []\n",
    "for i in range(len(list_phase)):\n",
    "    arr.append(temp[list_phase[i]][list_genre[i]])\n",
    "\n",
    "df['gross'] = arr\n",
    "\n",
    "df['phase'] = (df['phase']*5+1940).apply(int).apply(str) + ' - ' + (df['phase']*5+1944).apply(int).apply(str)\n",
    "df['phase'][0] = '1937 - 1944'\n",
    "df['phase'][15] = '2015 - 2016'\n",
    "\n",
    "df"
   ]
  },
  {
   "cell_type": "code",
   "execution_count": 26,
   "id": "ce0a3542",
   "metadata": {},
   "outputs": [
    {
     "data": {
      "image/png": "[encoded data removed]",
      "text/plain": [
       "<Figure size 1080x576 with 1 Axes>"
      ]
     },
     "metadata": {
      "needs_background": "light"
     },
     "output_type": "display_data"
    }
   ],
   "source": [
    "df.index = df.phase\n",
    "fig = plt.figure(figsize=(15,8))\n",
    "my_colors = {'Musical':'red','Adventure':'blue','Drama':'green','Comedy':'orange'}\n",
    "ax = df['gross'].plot(kind = 'bar',color=df['genre trend'].replace(my_colors),rot=30\n",
    "                     ).legend(\n",
    "    [\n",
    "        Patch(facecolor = my_colors['Musical']),\n",
    "        Patch(facecolor = my_colors['Adventure']),\n",
    "        Patch(facecolor = my_colors['Drama']),\n",
    "        Patch(facecolor = my_colors['Comedy'])\n",
    "    ], ['Musical','Adventure','Drama','Comedy']\n",
    ")\n",
    "\n",
    "plt.xlabel('Phase',fontsize =20)\n",
    "plt.ylabel('Total gross',fontsize =20)\n",
    "plt.title('Favorite movie genre and revenue in each period\\n', fontsize =20)\n",
    "plt.show()"
   ]
  },
  {
   "cell_type": "markdown",
   "id": "c455c3f9",
   "metadata": {},
   "source": [
    "**Assessing:**\n",
    "- Favorite genres trend see a shift over time\n",
    "- during 1937-1959, can not see a whole shape which trends prevail because all 4 periods has 3 different genres\n",
    "- Over the course of 1960-2004, `Comedy` stands out as the most prevailling genres, outstripping the others\n",
    "- Over 2005-2016, `Comedy` no longer dominated. Instead, `Adventure` is the new king till now."
   ]
  },
  {
   "cell_type": "markdown",
   "id": "a80520da",
   "metadata": {},
   "source": [
    "## 5. Reflection\n",
    "\n",
    "• Each member: What difficulties have you encountered?\n",
    "\n",
    "`19127516 - Xuân Phước` : data visualization, find questions.\n",
    "\n",
    "`19127403 - Trung Hiếu` : Forming questions, look for a dataset.\n",
    "\n",
    "• Each member: What have you learned?\n",
    "\n",
    "`19127516 - Xuân Phước` : Learn more about libraries pandas, numpy, matplotlib. How to make a complete project.\n",
    "\n",
    "`19127403 - Trung Hiếu` : I have learnt how to obtain dataset on different website and how to do basic analitics. What to do first with a dataset such as check for duplicate row, missing values, inappropriates data, etc.\n",
    "\n",
    "• Your group: If you had more time, what would you do?\n",
    "- If we have more time maybe we'll implement some Learning algorithms to this dataset to find out should Disney make more Action/Adventure movies."
   ]
  },
  {
   "cell_type": "markdown",
   "id": "01ccf27b",
   "metadata": {},
   "source": [
    "## 6. References and Footnote:\n",
    "- Moodle\n",
    "- https://data.world/kgarrett/disney-character-success-00-16\n",
    "- https://www.sugarcane.com/data/walt-disney-animation-studios-films-1\n",
    "- http://www.the-numbers.com/movies/distributor/Walt-Disney\n",
    "- https://en.wikipedia.org/wiki/List_of_Disney_animated_universe_characters\n",
    "- https://en.wikipedia.org/wiki/The_Walt_Disney_Company#Financial_data\n",
    "\n",
    "\n",
    "To finish this project, what materials have you consulted?\n",
    "\n",
    "\n",
    "\n",
    "(1): `Box office gross` -> Revenue generated from ticket sales (receipts) including any taxes and other levies.  \n",
    "(2): `MPAA ratings` -> The MPAA rating system is a voluntary film-rating system created by the Motion Picture Association of America (MPAA) and the National Association of Theatre Owners (NATO) to determine a movie's suitability for audiences and age groups based on content.  \n",
    "(3): `CC-BY` -> it is the most open license. It allows the user to redistribute, to create derivatives, such as a translation, and even use the publication for commercial activities, provided that appropriate credit is given to the author (BY) and that the user indicates whether the publication has been changed."
   ]
  }
 ],
 "metadata": {
  "kernelspec": {
   "display_name": "Python 3 (ipykernel)",
   "language": "python",
   "name": "python3"
  },
  "language_info": {
   "codemirror_mode": {
    "name": "ipython",
    "version": 3
   },
   "file_extension": ".py",
   "mimetype": "text/x-python",
   "name": "python",
   "nbconvert_exporter": "python",
   "pygments_lexer": "ipython3",
   "version": "3.8.8"
  }
 },
 "nbformat": 4,
 "nbformat_minor": 5
}
