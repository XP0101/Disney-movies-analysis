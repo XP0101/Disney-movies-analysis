{
 "cells": [
  {
   "cell_type": "markdown",
   "id": "73ccb5a1",
   "metadata": {},
   "source": [
    "# FINAL PROJECT"
   ]
  },
  {
   "cell_type": "markdown",
   "id": "65fa621d",
   "metadata": {},
   "source": [
    "## 1. Collecting data\n",
    "\n",
    "• What subject is your data about? What is the source of\n",
    "your data?\n",
    "\n",
    "• Do authors of this data allow you to use like this? You\n",
    "can check the data license\n",
    "\n",
    "• How did authors collect data?"
   ]
  },
  {
   "cell_type": "markdown",
   "id": "a567b166",
   "metadata": {},
   "source": [
    "## 2. Exploring data \n",
    "### (often interleaved with preprocessing)\n",
    "\n",
    "• How many rows and how many columns?\n",
    "\n",
    "• What is the meaning of each row?\n",
    "\n",
    "• Are there `duplicated rows`?\n",
    "\n",
    "• What is the meaning of each column?\n",
    "\n",
    "\n",
    "• What is the current data type of each column? Are\n",
    "there columns having `inappropriate data types`?\n",
    "\n",
    "• With each numerical column, how are values\n",
    "distributed?\n",
    "    - What is the percentage of `missing values`?\n",
    "    - Min? max? Are they `abnormal`?\n",
    "\n",
    "• With each categorical column, how are values\n",
    "distributed?\n",
    "    - What is the percentage of `missing values`?\n",
    "    - How many different values? Show a few\n",
    "      Are they `abnormal`?"
   ]
  },
  {
   "cell_type": "markdown",
   "id": "9f31c0b1",
   "metadata": {},
   "source": [
    "## 3. Asking meaningful questions\n",
    "\n",
    "Your group needs to give ≥ `the-number-of-group-members`\n",
    "questions which can be answered with this data. Each\n",
    "question should be `meaningful` (what are benefits of finding\n",
    "the answer?) and `not too easy to answer` (e.g., it’s too easy if\n",
    "we just need one line of code to get the answer). Your\n",
    "group should focus more on `the quality of questions` than\n",
    "the quantity.\n",
    "\n",
    "In notebook file, with each question, your group needs to\n",
    "present:\n",
    "\n",
    "• What is the question?\n",
    "\n",
    "• What are benefits of finding the answer?"
   ]
  },
  {
   "cell_type": "markdown",
   "id": "2e8e1243",
   "metadata": {},
   "source": [
    "## 4. Preprocessing + analyzing data to answer each question\n",
    "\n",
    "With each question:\n",
    "• Does it need to have preprocessing step, and if yes,\n",
    "how does your group preprocess?\n",
    "\n",
    "• Text: sketch steps `clearly` so that readers can\n",
    "understand how your group preprocesses even without\n",
    "reading code\n",
    "\n",
    "• Code: implement sketched steps. Your group should\n",
    "also try to write code `clearly` (choose good variable\n",
    "names, comment where should be commented, don’t\n",
    "let a line too long)\n",
    "\n",
    "• How does your group analyze data to answer the\n",
    "question?\n",
    "\n",
    "• Text: similar to above\n",
    "\n",
    "• Code: similar to above"
   ]
  },
  {
   "cell_type": "markdown",
   "id": "a80520da",
   "metadata": {},
   "source": [
    "## 5. Reflection\n",
    "\n",
    "• Each member: What difficulties have you encountered?\n",
    "\n",
    "• Each member: What have you learned?\n",
    "\n",
    "• Your group: If you had more time, what would you do?"
   ]
  },
  {
   "cell_type": "markdown",
   "id": "01ccf27b",
   "metadata": {},
   "source": [
    "## 6. References\n",
    "To finish this project, what materials have you consulted?"
   ]
  }
 ],
 "metadata": {
  "kernelspec": {
   "display_name": "Python 3 (ipykernel)",
   "language": "python",
   "name": "python3"
  },
  "language_info": {
   "codemirror_mode": {
    "name": "ipython",
    "version": 3
   },
   "file_extension": ".py",
   "mimetype": "text/x-python",
   "name": "python",
   "nbconvert_exporter": "python",
   "pygments_lexer": "ipython3",
   "version": "3.8.8"
  }
 },
 "nbformat": 4,
 "nbformat_minor": 5
}
