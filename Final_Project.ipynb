{
 "cells": [
  {
   "cell_type": "markdown",
   "id": "73ccb5a1",
   "metadata": {},
   "source": [
    "# FINAL PROJECT"
   ]
  },
  {
   "cell_type": "markdown",
   "id": "ee591e04",
   "metadata": {},
   "source": [
    "### Mandatory Library"
   ]
  },
  {
   "cell_type": "code",
   "execution_count": 2,
   "id": "5f64d08a",
   "metadata": {},
   "outputs": [],
   "source": [
    "import pandas as pd\n",
    "import numpy as np\n",
    "import datetime"
   ]
  },
  {
   "cell_type": "markdown",
   "id": "db6332d8",
   "metadata": {},
   "source": [
    "## 1. Collecting data\n",
    "\n",
    "• **What subject is your data about? What is the source of\n",
    "your data?**\n",
    "- Data is about Disney movies along with box office success, annual gross income and this dataset aims to seek relationship between box office gross (1) and MPAA ratings (2) in Disney movies\n",
    "- Source can be found [here](https://data.world/kgarrett/disney-character-success-00-16)\n",
    "- Description about data has 9 files, 23 columns. But for the sake of this final project we only  use a partial\n",
    "- What are the trends in the Walt Disney Studio’s box office data? How do certain characters contribute to the success or failure of a movie?\n",
    "    \n",
    "• **Do authors of this data allow you to use like this? You\n",
    "can check the data license**\n",
    "- The Author has published this data 5 years ago and this data is eligibled for everyone to use in `About this dataset` section\n",
    "- License: `CC-BY` (3)\n",
    "\n",
    "• **How did authors collect data?**\n",
    "- Data is obtained by 4 authors and their references according to their `DisneyReport.pdf`\n",
    "    - https://www.sugarcane.com/data/walt-disney-animation-studios-films-1\n",
    "    - http://www.the-numbers.com/movies/distributor/Walt-Disney\n",
    "    - https://en.wikipedia.org/wiki/List_of_Disney_animated_universe_characters\n",
    "    - https://en.wikipedia.org/wiki/The_Walt_Disney_Company#Financial_data\n",
    "- They utilize [import.io](https://www.import.io) to convert raw data into csv file"
   ]
  },
  {
   "cell_type": "markdown",
   "id": "a567b166",
   "metadata": {},
   "source": [
    "## 2. Exploring data \n",
    "### (often interleaved with preprocessing)\n",
    "\n",
    "• How many rows and how many columns?\n",
    "\n",
    "• What is the meaning of each row?\n",
    "\n",
    "• Are there `duplicated rows`?\n",
    "\n",
    "• What is the meaning of each column?\n",
    "\n",
    "\n",
    "• What is the current data type of each column? Are\n",
    "there columns having `inappropriate data types`?\n",
    "\n",
    "• With each numerical column, how are values\n",
    "distributed?\n",
    "    - What is the percentage of `missing values`?\n",
    "    - Min? max? Are they `abnormal`?\n",
    "\n",
    "• With each categorical column, how are values\n",
    "distributed?\n",
    "    - What is the percentage of `missing values`?\n",
    "    - How many different values? Show a few\n",
    "      Are they `abnormal`?"
   ]
  },
  {
   "cell_type": "markdown",
   "id": "a9f21294",
   "metadata": {},
   "source": [
    "### Read csv into Dataframe"
   ]
  },
  {
   "cell_type": "code",
   "execution_count": 44,
   "id": "262d02da",
   "metadata": {},
   "outputs": [
    {
     "data": {
      "text/html": [
       "<div>\n",
       "<style scoped>\n",
       "    .dataframe tbody tr th:only-of-type {\n",
       "        vertical-align: middle;\n",
       "    }\n",
       "\n",
       "    .dataframe tbody tr th {\n",
       "        vertical-align: top;\n",
       "    }\n",
       "\n",
       "    .dataframe thead th {\n",
       "        text-align: right;\n",
       "    }\n",
       "</style>\n",
       "<table border=\"1\" class=\"dataframe\">\n",
       "  <thead>\n",
       "    <tr style=\"text-align: right;\">\n",
       "      <th></th>\n",
       "      <th>movie_title</th>\n",
       "      <th>release_date</th>\n",
       "      <th>genre</th>\n",
       "      <th>mpaa_rating</th>\n",
       "      <th>total_gross</th>\n",
       "      <th>inflation_adjusted_gross</th>\n",
       "    </tr>\n",
       "  </thead>\n",
       "  <tbody>\n",
       "    <tr>\n",
       "      <th>190</th>\n",
       "      <td>The Puppet Masters</td>\n",
       "      <td>1994-10-21</td>\n",
       "      <td>Horror</td>\n",
       "      <td>R</td>\n",
       "      <td>8579626</td>\n",
       "      <td>17727017</td>\n",
       "    </tr>\n",
       "    <tr>\n",
       "      <th>135</th>\n",
       "      <td>Aladdin</td>\n",
       "      <td>1992-11-11</td>\n",
       "      <td>Comedy</td>\n",
       "      <td>G</td>\n",
       "      <td>217350219</td>\n",
       "      <td>441969178</td>\n",
       "    </tr>\n",
       "    <tr>\n",
       "      <th>184</th>\n",
       "      <td>Camp Nowhere</td>\n",
       "      <td>1994-08-26</td>\n",
       "      <td>Comedy</td>\n",
       "      <td>PG</td>\n",
       "      <td>10442641</td>\n",
       "      <td>21576332</td>\n",
       "    </tr>\n",
       "    <tr>\n",
       "      <th>423</th>\n",
       "      <td>Sky High</td>\n",
       "      <td>2005-07-29</td>\n",
       "      <td>Adventure</td>\n",
       "      <td>PG</td>\n",
       "      <td>63939454</td>\n",
       "      <td>84088854</td>\n",
       "    </tr>\n",
       "    <tr>\n",
       "      <th>291</th>\n",
       "      <td>Holy Man</td>\n",
       "      <td>1998-10-09</td>\n",
       "      <td>Comedy</td>\n",
       "      <td>PG</td>\n",
       "      <td>12069719</td>\n",
       "      <td>21694605</td>\n",
       "    </tr>\n",
       "    <tr>\n",
       "      <th>435</th>\n",
       "      <td>The Shaggy Dog</td>\n",
       "      <td>2006-03-10</td>\n",
       "      <td>Comedy</td>\n",
       "      <td>PG</td>\n",
       "      <td>61123569</td>\n",
       "      <td>78667428</td>\n",
       "    </tr>\n",
       "    <tr>\n",
       "      <th>482</th>\n",
       "      <td>Up</td>\n",
       "      <td>2009-05-29</td>\n",
       "      <td>Adventure</td>\n",
       "      <td>PG</td>\n",
       "      <td>293004164</td>\n",
       "      <td>329336681</td>\n",
       "    </tr>\n",
       "    <tr>\n",
       "      <th>2</th>\n",
       "      <td>Fantasia</td>\n",
       "      <td>1940-11-13</td>\n",
       "      <td>Musical</td>\n",
       "      <td>G</td>\n",
       "      <td>83320000</td>\n",
       "      <td>2187090808</td>\n",
       "    </tr>\n",
       "    <tr>\n",
       "      <th>550</th>\n",
       "      <td>The Hundred-Foot Journey</td>\n",
       "      <td>2014-08-08</td>\n",
       "      <td>Romantic Comedy</td>\n",
       "      <td>PG</td>\n",
       "      <td>54235441</td>\n",
       "      <td>55961409</td>\n",
       "    </tr>\n",
       "    <tr>\n",
       "      <th>38</th>\n",
       "      <td>Country</td>\n",
       "      <td>1984-09-29</td>\n",
       "      <td>Drama</td>\n",
       "      <td>NaN</td>\n",
       "      <td>8400000</td>\n",
       "      <td>21075000</td>\n",
       "    </tr>\n",
       "  </tbody>\n",
       "</table>\n",
       "</div>"
      ],
      "text/plain": [
       "                  movie_title release_date            genre mpaa_rating  \\\n",
       "190        The Puppet Masters   1994-10-21           Horror           R   \n",
       "135                   Aladdin   1992-11-11           Comedy           G   \n",
       "184              Camp Nowhere   1994-08-26           Comedy          PG   \n",
       "423                  Sky High   2005-07-29        Adventure          PG   \n",
       "291                  Holy Man   1998-10-09           Comedy          PG   \n",
       "435            The Shaggy Dog   2006-03-10           Comedy          PG   \n",
       "482                        Up   2009-05-29        Adventure          PG   \n",
       "2                    Fantasia   1940-11-13          Musical           G   \n",
       "550  The Hundred-Foot Journey   2014-08-08  Romantic Comedy          PG   \n",
       "38                    Country   1984-09-29            Drama         NaN   \n",
       "\n",
       "     total_gross  inflation_adjusted_gross  \n",
       "190      8579626                  17727017  \n",
       "135    217350219                 441969178  \n",
       "184     10442641                  21576332  \n",
       "423     63939454                  84088854  \n",
       "291     12069719                  21694605  \n",
       "435     61123569                  78667428  \n",
       "482    293004164                 329336681  \n",
       "2       83320000                2187090808  \n",
       "550     54235441                  55961409  \n",
       "38       8400000                  21075000  "
      ]
     },
     "execution_count": 44,
     "metadata": {},
     "output_type": "execute_result"
    }
   ],
   "source": [
    "movies_gross = pd.read_csv('Data/disney_movies_total_gross.csv')\n",
    "movies_gross.sample(10)"
   ]
  },
  {
   "cell_type": "markdown",
   "id": "6ee5dcd4",
   "metadata": {},
   "source": [
    "### How many rows and how many columns?"
   ]
  },
  {
   "cell_type": "code",
   "execution_count": 45,
   "id": "4f12104a",
   "metadata": {},
   "outputs": [
    {
     "name": "stdout",
     "output_type": "stream",
     "text": [
      "rows:579\n",
      "columns:6\n"
     ]
    }
   ],
   "source": [
    "print(\"rows:\"+ str(movies_gross.shape[0]))\n",
    "print(\"columns:\"+ str(movies_gross.shape[1]))"
   ]
  },
  {
   "cell_type": "markdown",
   "id": "96f5a9c2",
   "metadata": {},
   "source": [
    "### What is the meaning of column and values?"
   ]
  },
  {
   "cell_type": "markdown",
   "id": "d74a7f94",
   "metadata": {},
   "source": [
    "- `movie_title` : title of a movie  \n",
    "- `release_date`: the date this movie release  \n",
    "- `genre`:  Genre of a movie  \n",
    "- `mpaa_rating`: MPAA ratings of a movie\n",
    "    - `G`: **General Audiences** All ages admitted. Nothing that would offend parents for viewing by children\n",
    "    \n",
    "    - `PG`: **Parental Guidance Suggested** Some material may not be suitable for children. Parents urged to give \"parental guidance\". May contain some material parents might not like for their young children.\n",
    "    \n",
    "    - `PG-13`: **Parents Strongly Cautioned** Some material may be inappropriate for children under 13. Parents are urged to be cautious. Some material may be inappropriate for pre-teenagers.\n",
    "    \n",
    "    - `R`: **Restricted** Under 17 requires accompanying parent or adult guardian. Contains some adult material. Parents are urged to learn more about the film before taking their young children with them.\n",
    "    \n",
    "    - `Not Rated`\n",
    "    \n",
    "- `total_gross`: Total gross of a movie   \n",
    "- `inflation_adjusted_gross`: inflation of a movies"
   ]
  },
  {
   "cell_type": "code",
   "execution_count": 46,
   "id": "d84c770f",
   "metadata": {},
   "outputs": [
    {
     "data": {
      "text/html": [
       "<div>\n",
       "<style scoped>\n",
       "    .dataframe tbody tr th:only-of-type {\n",
       "        vertical-align: middle;\n",
       "    }\n",
       "\n",
       "    .dataframe tbody tr th {\n",
       "        vertical-align: top;\n",
       "    }\n",
       "\n",
       "    .dataframe thead th {\n",
       "        text-align: right;\n",
       "    }\n",
       "</style>\n",
       "<table border=\"1\" class=\"dataframe\">\n",
       "  <thead>\n",
       "    <tr style=\"text-align: right;\">\n",
       "      <th></th>\n",
       "      <th>movie_title</th>\n",
       "      <th>release_date</th>\n",
       "      <th>genre</th>\n",
       "      <th>mpaa_rating</th>\n",
       "      <th>total_gross</th>\n",
       "      <th>inflation_adjusted_gross</th>\n",
       "    </tr>\n",
       "  </thead>\n",
       "  <tbody>\n",
       "    <tr>\n",
       "      <th>375</th>\n",
       "      <td>25th Hour</td>\n",
       "      <td>2002-12-19</td>\n",
       "      <td>Drama</td>\n",
       "      <td>R</td>\n",
       "      <td>13084595</td>\n",
       "      <td>18325463</td>\n",
       "    </tr>\n",
       "  </tbody>\n",
       "</table>\n",
       "</div>"
      ],
      "text/plain": [
       "    movie_title release_date  genre mpaa_rating  total_gross  \\\n",
       "375   25th Hour   2002-12-19  Drama           R     13084595   \n",
       "\n",
       "     inflation_adjusted_gross  \n",
       "375                  18325463  "
      ]
     },
     "execution_count": 46,
     "metadata": {},
     "output_type": "execute_result"
    }
   ],
   "source": [
    "movies_gross.sample(1)"
   ]
  },
  {
   "cell_type": "markdown",
   "id": "7990ab1e",
   "metadata": {},
   "source": [
    "### What is the current data type of each column? Are there columns having inappropriate data types?"
   ]
  },
  {
   "cell_type": "code",
   "execution_count": 47,
   "id": "20bbfdfe",
   "metadata": {},
   "outputs": [],
   "source": [
    "def open_object_dtype(s):\n",
    "    dtypes = set()\n",
    "    dtypes = set(s.apply(type))\n",
    "    return dtypes"
   ]
  },
  {
   "cell_type": "code",
   "execution_count": 48,
   "id": "57fff757",
   "metadata": {},
   "outputs": [
    {
     "name": "stdout",
     "output_type": "stream",
     "text": [
      "movies_title :{<class 'str'>}\n",
      "release_date :{<class 'str'>}\n",
      "genre :{<class 'str'>, <class 'float'>}\n",
      "mpaa_rating :{<class 'str'>, <class 'float'>}\n",
      "total_gross :{<class 'int'>}\n",
      "inflation_adjusted_gross :{<class 'int'>}\n"
     ]
    }
   ],
   "source": [
    "print('movies_title :' + str(open_object_dtype(movies_gross['movie_title'])))\n",
    "print('release_date :' + str(open_object_dtype(movies_gross['release_date'])))\n",
    "print('genre :' + str(open_object_dtype(movies_gross['genre'])))\n",
    "print('mpaa_rating :' + str(open_object_dtype(movies_gross['mpaa_rating'])))\n",
    "print('total_gross :' + str(open_object_dtype(movies_gross['total_gross'])))\n",
    "print('inflation_adjusted_gross :' + str(open_object_dtype(movies_gross['inflation_adjusted_gross'])))"
   ]
  },
  {
   "cell_type": "markdown",
   "id": "5553e25b",
   "metadata": {},
   "source": [
    "- As we can see both `Genre` and `mpaa_rating` have the same dtypes of `str` and `float`\n",
    "- Since we have noticed so far, `release_date` needs converting to Datetime for later use\n",
    "- Other columns is appropriate "
   ]
  },
  {
   "cell_type": "markdown",
   "id": "6b12edd0",
   "metadata": {},
   "source": [
    "#### Convert columns into appropriate dtype\n",
    "- `release_date` converts into datetime dtype\n",
    "- `genre` converts into string dtype\n",
    "- `mapaa_rating` converts into string dtype"
   ]
  },
  {
   "cell_type": "code",
   "execution_count": 49,
   "id": "8d4e9a3e",
   "metadata": {},
   "outputs": [],
   "source": [
    "movies_gross.loc[:,'release_date'] = pd.to_datetime(movies_gross.loc[:,'release_date'],format='%Y/%m/%d')\n",
    "movies_gross.loc[:,'genre'] = movies_gross.loc[:,'genre'].astype(str)\n",
    "movies_gross.loc[:,'mpaa_rating'] = movies_gross.loc[:,'mpaa_rating'].astype(str)"
   ]
  },
  {
   "cell_type": "markdown",
   "id": "40b341ec",
   "metadata": {},
   "source": [
    "### Are there duplicated rows?"
   ]
  },
  {
   "cell_type": "code",
   "execution_count": 50,
   "id": "9508ca3b",
   "metadata": {},
   "outputs": [
    {
     "data": {
      "text/plain": [
       "False"
      ]
     },
     "execution_count": 50,
     "metadata": {},
     "output_type": "execute_result"
    }
   ],
   "source": [
    "have_duplicated_rows = movies_gross.duplicated().any()\n",
    "have_duplicated_rows"
   ]
  },
  {
   "cell_type": "markdown",
   "id": "4507e1a7",
   "metadata": {},
   "source": [
    "### What is the meaning of each row?"
   ]
  },
  {
   "cell_type": "markdown",
   "id": "78c5c160",
   "metadata": {},
   "source": [
    "Each row is a pack of information of a single movie"
   ]
  },
  {
   "cell_type": "code",
   "execution_count": 51,
   "id": "caf585c2",
   "metadata": {},
   "outputs": [
    {
     "data": {
      "text/html": [
       "<div>\n",
       "<style scoped>\n",
       "    .dataframe tbody tr th:only-of-type {\n",
       "        vertical-align: middle;\n",
       "    }\n",
       "\n",
       "    .dataframe tbody tr th {\n",
       "        vertical-align: top;\n",
       "    }\n",
       "\n",
       "    .dataframe thead th {\n",
       "        text-align: right;\n",
       "    }\n",
       "</style>\n",
       "<table border=\"1\" class=\"dataframe\">\n",
       "  <thead>\n",
       "    <tr style=\"text-align: right;\">\n",
       "      <th></th>\n",
       "      <th>movie_title</th>\n",
       "      <th>release_date</th>\n",
       "      <th>genre</th>\n",
       "      <th>mpaa_rating</th>\n",
       "      <th>total_gross</th>\n",
       "      <th>inflation_adjusted_gross</th>\n",
       "    </tr>\n",
       "  </thead>\n",
       "  <tbody>\n",
       "    <tr>\n",
       "      <th>300</th>\n",
       "      <td>My Favorite Martian</td>\n",
       "      <td>1999-02-12</td>\n",
       "      <td>Comedy</td>\n",
       "      <td>PG</td>\n",
       "      <td>36850101</td>\n",
       "      <td>61150849</td>\n",
       "    </tr>\n",
       "  </tbody>\n",
       "</table>\n",
       "</div>"
      ],
      "text/plain": [
       "             movie_title release_date   genre mpaa_rating  total_gross  \\\n",
       "300  My Favorite Martian   1999-02-12  Comedy          PG     36850101   \n",
       "\n",
       "     inflation_adjusted_gross  \n",
       "300                  61150849  "
      ]
     },
     "execution_count": 51,
     "metadata": {},
     "output_type": "execute_result"
    }
   ],
   "source": [
    "movies_gross.sample(1)"
   ]
  },
  {
   "cell_type": "markdown",
   "id": "4f5eac55",
   "metadata": {},
   "source": [
    "### With each numerical column, how are values distributed? - What is the percentage of missing values? - Min? max? Are they abnormal?\n",
    "\n",
    "- We arrange `release_date`, `total_gross`, `inflation_adjusted_gross` column into numerical group\n",
    "- Each of columns we're going to merge `missing_ratio`, `min`, and `max` into one dataframe"
   ]
  },
  {
   "cell_type": "markdown",
   "id": "e257dae7",
   "metadata": {},
   "source": [
    "- `mpaa_rating` column is abnormal because the owner predetermine `nan` values as `string`\n",
    "-  `total_gross`, `inflation_adjusted_gross` column are abnormal because the owner predetermine `0` as `nan` value\n",
    "\n",
    "So we have to convert `nan` and `0` into appropriate `np.nan` value"
   ]
  },
  {
   "cell_type": "code",
   "execution_count": 52,
   "id": "08335307",
   "metadata": {},
   "outputs": [],
   "source": [
    "movies_gross.loc[:,'mpaa_rating'].replace('nan',np.nan,inplace=True)\n",
    "movies_gross.loc[:,'total_gross'].replace(0,np.nan,inplace=True)\n",
    "movies_gross.loc[:,'inflation_adjusted_gross'].replace(0,np.nan,inplace=True)\n",
    "movies_gross.loc[:,'genre'].replace('nan',np.nan,inplace=True)"
   ]
  },
  {
   "cell_type": "code",
   "execution_count": 53,
   "id": "070012ef",
   "metadata": {},
   "outputs": [
    {
     "data": {
      "text/html": [
       "<div>\n",
       "<style scoped>\n",
       "    .dataframe tbody tr th:only-of-type {\n",
       "        vertical-align: middle;\n",
       "    }\n",
       "\n",
       "    .dataframe tbody tr th {\n",
       "        vertical-align: top;\n",
       "    }\n",
       "\n",
       "    .dataframe thead th {\n",
       "        text-align: right;\n",
       "    }\n",
       "</style>\n",
       "<table border=\"1\" class=\"dataframe\">\n",
       "  <thead>\n",
       "    <tr style=\"text-align: right;\">\n",
       "      <th></th>\n",
       "      <th>release_date</th>\n",
       "      <th>total_gross</th>\n",
       "      <th>inflation_adjusted_gross</th>\n",
       "    </tr>\n",
       "  </thead>\n",
       "  <tbody>\n",
       "    <tr>\n",
       "      <th>missing_ratio</th>\n",
       "      <td>0.0</td>\n",
       "      <td>6.910000e-01</td>\n",
       "      <td>6.910000e-01</td>\n",
       "    </tr>\n",
       "    <tr>\n",
       "      <th>min</th>\n",
       "      <td>1937-12-21 00:00:00</td>\n",
       "      <td>2.815000e+03</td>\n",
       "      <td>2.984000e+03</td>\n",
       "    </tr>\n",
       "    <tr>\n",
       "      <th>max</th>\n",
       "      <td>2016-12-16 00:00:00</td>\n",
       "      <td>9.366622e+08</td>\n",
       "      <td>5.228953e+09</td>\n",
       "    </tr>\n",
       "  </tbody>\n",
       "</table>\n",
       "</div>"
      ],
      "text/plain": [
       "                      release_date   total_gross  inflation_adjusted_gross\n",
       "missing_ratio                  0.0  6.910000e-01              6.910000e-01\n",
       "min            1937-12-21 00:00:00  2.815000e+03              2.984000e+03\n",
       "max            2016-12-16 00:00:00  9.366622e+08              5.228953e+09"
      ]
     },
     "execution_count": 53,
     "metadata": {},
     "output_type": "execute_result"
    }
   ],
   "source": [
    "missing = []\n",
    "missing.append(round(movies_gross.loc[:,'release_date'].isna().sum() / movies_gross.loc[:,'release_date'].size * 100,3))\n",
    "missing.append(round(movies_gross.loc[:,'total_gross'].isna().sum() / movies_gross.loc[:,'total_gross'].size * 100,3))\n",
    "missing.append(round(movies_gross.loc[:,'inflation_adjusted_gross'].isna().sum() / movies_gross.loc[:,'inflation_adjusted_gross'].size * 100,3))\n",
    "\n",
    "minval = []\n",
    "minval.append(movies_gross.loc[:,'release_date'].min())\n",
    "minval.append(movies_gross.loc[:,'total_gross'].min())\n",
    "minval.append(movies_gross.loc[:,'inflation_adjusted_gross'].min())\n",
    "\n",
    "maxval = []\n",
    "maxval.append(movies_gross.loc[:,'release_date'].max())\n",
    "maxval.append(movies_gross.loc[:,'total_gross'].max())\n",
    "maxval.append(movies_gross.loc[:,'inflation_adjusted_gross'].max())\n",
    "\n",
    "pd.DataFrame([missing,minval,maxval],index=[\"missing_ratio\", \"min\", \"max\"],columns=[\"release_date\", \"total_gross\", \"inflation_adjusted_gross\"])\n"
   ]
  },
  {
   "cell_type": "markdown",
   "id": "bf6cd865",
   "metadata": {},
   "source": [
    "### With each categorical column, how are values distributed? - What is the percentage of missing values? - How many different values? Show a few. Are they abnormal?"
   ]
  },
  {
   "cell_type": "markdown",
   "id": "c7a43ecf",
   "metadata": {},
   "source": [
    "- We arrange `movie_title`, `genre`, `mpaa_rating` column into categorical group"
   ]
  },
  {
   "cell_type": "code",
   "execution_count": 54,
   "id": "13b4655d",
   "metadata": {},
   "outputs": [
    {
     "data": {
      "text/html": [
       "<div>\n",
       "<style scoped>\n",
       "    .dataframe tbody tr th:only-of-type {\n",
       "        vertical-align: middle;\n",
       "    }\n",
       "\n",
       "    .dataframe tbody tr th {\n",
       "        vertical-align: top;\n",
       "    }\n",
       "\n",
       "    .dataframe thead th {\n",
       "        text-align: right;\n",
       "    }\n",
       "</style>\n",
       "<table border=\"1\" class=\"dataframe\">\n",
       "  <thead>\n",
       "    <tr style=\"text-align: right;\">\n",
       "      <th></th>\n",
       "      <th>movie_title</th>\n",
       "      <th>genre</th>\n",
       "      <th>mpaa_rating</th>\n",
       "    </tr>\n",
       "  </thead>\n",
       "  <tbody>\n",
       "    <tr>\n",
       "      <th>missing_ratio</th>\n",
       "      <td>0.0</td>\n",
       "      <td>2.936097</td>\n",
       "      <td>9.671848</td>\n",
       "    </tr>\n",
       "    <tr>\n",
       "      <th>Unique</th>\n",
       "      <td>573</td>\n",
       "      <td>12</td>\n",
       "      <td>5</td>\n",
       "    </tr>\n",
       "    <tr>\n",
       "      <th>diff_val</th>\n",
       "      <td>[Snow White and the Seven Dwarfs, Pinocchio, F...</td>\n",
       "      <td>[Musical, Adventure, Drama, Comedy, Action, Ho...</td>\n",
       "      <td>[G, Not Rated, PG, R, PG-13]</td>\n",
       "    </tr>\n",
       "  </tbody>\n",
       "</table>\n",
       "</div>"
      ],
      "text/plain": [
       "                                                     movie_title  \\\n",
       "missing_ratio                                                0.0   \n",
       "Unique                                                       573   \n",
       "diff_val       [Snow White and the Seven Dwarfs, Pinocchio, F...   \n",
       "\n",
       "                                                           genre  \\\n",
       "missing_ratio                                           2.936097   \n",
       "Unique                                                        12   \n",
       "diff_val       [Musical, Adventure, Drama, Comedy, Action, Ho...   \n",
       "\n",
       "                                mpaa_rating  \n",
       "missing_ratio                      9.671848  \n",
       "Unique                                    5  \n",
       "diff_val       [G, Not Rated, PG, R, PG-13]  "
      ]
     },
     "execution_count": 54,
     "metadata": {},
     "output_type": "execute_result"
    }
   ],
   "source": [
    "missing = []\n",
    "missing.append(movies_gross.loc[:,'movie_title'].isna().sum() / movies_gross.loc[:,'movie_title'].size * 100)\n",
    "missing.append(movies_gross.loc[:,'genre'].isna().sum() / movies_gross.loc[:,'genre'].size * 100)\n",
    "missing.append(movies_gross.loc[:,'mpaa_rating'].isna().sum() / movies_gross.loc[:,'mpaa_rating'].size * 100)\n",
    "\n",
    "unique = []\n",
    "unique.append(movies_gross.loc[:,'movie_title'].nunique(dropna=True))\n",
    "unique.append(movies_gross.loc[:,'genre'].nunique(dropna=True))\n",
    "unique.append(movies_gross.loc[:,'mpaa_rating'].nunique(dropna=True))\n",
    "\n",
    "diff_val = []\n",
    "diff_val.append(movies_gross.loc[:,'movie_title'].dropna().unique())\n",
    "diff_val.append(movies_gross.loc[:,'genre'].dropna().unique())\n",
    "diff_val.append(movies_gross.loc[:,'mpaa_rating'].dropna().unique())\n",
    "\n",
    "pd.DataFrame([missing,unique,diff_val],index=[\"missing_ratio\",\"Unique\",'diff_val'],columns=[\"movie_title\", \"genre\", \"mpaa_rating\"])\n",
    "\n"
   ]
  },
  {
   "cell_type": "markdown",
   "id": "0340870f",
   "metadata": {},
   "source": [
    "- We are noticing no abnormal in categroical group"
   ]
  },
  {
   "cell_type": "markdown",
   "id": "9f31c0b1",
   "metadata": {},
   "source": [
    "## 3. Asking meaningful questions\n",
    "\n",
    "Your group needs to give ≥ `the-number-of-group-members`\n",
    "questions which can be answered with this data. Each\n",
    "question should be `meaningful` (what are benefits of finding\n",
    "the answer?) and `not too easy to answer` (e.g., it’s too easy if\n",
    "we just need one line of code to get the answer). Your\n",
    "group should focus more on `the quality of questions` than\n",
    "the quantity.\n",
    "\n",
    "In notebook file, with each question, your group needs to\n",
    "present:\n",
    "\n",
    "• What is the question?\n",
    "- Which genres give out most total gross and least in total (thể loại nào đem lại lợi nhuận cao nhất và thấp nhất)\n",
    "- Kiểm tra các nhân vật nào được yêu thích nhất và phim thuộc vào thể loại nào và đạo diễn với voice actor là ai (nếu có) **(CHƯA LÀM)**\n",
    "- Xem xét hiệu quả kinh doanh của các thể loại phim hành động, phiêu lưu trước thế kỷ 20 và sau thế kỷ 20 (cột inflation)\n",
    "- Xu hướng thể loại phim yêu thích của khán giả có thay đổi qua thời gian hay không ?\n",
    "\n",
    "\n",
    "• What are benefits of finding the answer?\n",
    "- To examine which genres should Disney zero in on to produce the best quality, story for upcoming films  \n",
    "(xem xét thể loại nào mà Disney tập trung vào để cho ra những bộ phim kế tiếp có chất lượng, câu truyện tốt nhất, và tránh những thể loại mang lại thu nhập thấp)\n",
    "- Để xem xét các quality của phim tập trung vào voice actor và đạo diễn nào và có thể phim kế tiếp trùng genres thì ta có thể mời người đó làm đạo diễn \n",
    "- Để xem có khác biệt về thu thập cho chúng ta biết theo thời gian disney có phải ngày càng làm phim tệ hay phim làm ra hoặc hợp tác ngày càng hay và vẫn thu hút được mọi người"
   ]
  },
  {
   "cell_type": "code",
   "execution_count": 55,
   "id": "8413e1a4",
   "metadata": {},
   "outputs": [
    {
     "data": {
      "text/html": [
       "<div>\n",
       "<style scoped>\n",
       "    .dataframe tbody tr th:only-of-type {\n",
       "        vertical-align: middle;\n",
       "    }\n",
       "\n",
       "    .dataframe tbody tr th {\n",
       "        vertical-align: top;\n",
       "    }\n",
       "\n",
       "    .dataframe thead th {\n",
       "        text-align: right;\n",
       "    }\n",
       "</style>\n",
       "<table border=\"1\" class=\"dataframe\">\n",
       "  <thead>\n",
       "    <tr style=\"text-align: right;\">\n",
       "      <th></th>\n",
       "      <th>movie_title</th>\n",
       "      <th>release_date</th>\n",
       "      <th>genre</th>\n",
       "      <th>mpaa_rating</th>\n",
       "      <th>total_gross</th>\n",
       "      <th>inflation_adjusted_gross</th>\n",
       "    </tr>\n",
       "  </thead>\n",
       "  <tbody>\n",
       "    <tr>\n",
       "      <th>0</th>\n",
       "      <td>Snow White and the Seven Dwarfs</td>\n",
       "      <td>1937-12-21</td>\n",
       "      <td>Musical</td>\n",
       "      <td>G</td>\n",
       "      <td>184925485.0</td>\n",
       "      <td>5.228953e+09</td>\n",
       "    </tr>\n",
       "    <tr>\n",
       "      <th>1</th>\n",
       "      <td>Pinocchio</td>\n",
       "      <td>1940-02-09</td>\n",
       "      <td>Adventure</td>\n",
       "      <td>G</td>\n",
       "      <td>84300000.0</td>\n",
       "      <td>2.188229e+09</td>\n",
       "    </tr>\n",
       "    <tr>\n",
       "      <th>2</th>\n",
       "      <td>Fantasia</td>\n",
       "      <td>1940-11-13</td>\n",
       "      <td>Musical</td>\n",
       "      <td>G</td>\n",
       "      <td>83320000.0</td>\n",
       "      <td>2.187091e+09</td>\n",
       "    </tr>\n",
       "    <tr>\n",
       "      <th>3</th>\n",
       "      <td>Song of the South</td>\n",
       "      <td>1946-11-12</td>\n",
       "      <td>Adventure</td>\n",
       "      <td>G</td>\n",
       "      <td>65000000.0</td>\n",
       "      <td>1.078511e+09</td>\n",
       "    </tr>\n",
       "    <tr>\n",
       "      <th>4</th>\n",
       "      <td>Cinderella</td>\n",
       "      <td>1950-02-15</td>\n",
       "      <td>Drama</td>\n",
       "      <td>G</td>\n",
       "      <td>85000000.0</td>\n",
       "      <td>9.206087e+08</td>\n",
       "    </tr>\n",
       "  </tbody>\n",
       "</table>\n",
       "</div>"
      ],
      "text/plain": [
       "                       movie_title release_date      genre mpaa_rating  \\\n",
       "0  Snow White and the Seven Dwarfs   1937-12-21    Musical           G   \n",
       "1                        Pinocchio   1940-02-09  Adventure           G   \n",
       "2                         Fantasia   1940-11-13    Musical           G   \n",
       "3                Song of the South   1946-11-12  Adventure           G   \n",
       "4                       Cinderella   1950-02-15      Drama           G   \n",
       "\n",
       "   total_gross  inflation_adjusted_gross  \n",
       "0  184925485.0              5.228953e+09  \n",
       "1   84300000.0              2.188229e+09  \n",
       "2   83320000.0              2.187091e+09  \n",
       "3   65000000.0              1.078511e+09  \n",
       "4   85000000.0              9.206087e+08  "
      ]
     },
     "execution_count": 55,
     "metadata": {},
     "output_type": "execute_result"
    }
   ],
   "source": [
    "movies_gross.head()"
   ]
  },
  {
   "cell_type": "code",
   "execution_count": 56,
   "id": "c70feacc",
   "metadata": {},
   "outputs": [
    {
     "data": {
      "text/html": [
       "<div>\n",
       "<style scoped>\n",
       "    .dataframe tbody tr th:only-of-type {\n",
       "        vertical-align: middle;\n",
       "    }\n",
       "\n",
       "    .dataframe tbody tr th {\n",
       "        vertical-align: top;\n",
       "    }\n",
       "\n",
       "    .dataframe thead th {\n",
       "        text-align: right;\n",
       "    }\n",
       "</style>\n",
       "<table border=\"1\" class=\"dataframe\">\n",
       "  <thead>\n",
       "    <tr style=\"text-align: right;\">\n",
       "      <th></th>\n",
       "      <th>character</th>\n",
       "      <th>voice_actor</th>\n",
       "      <th>movie</th>\n",
       "    </tr>\n",
       "  </thead>\n",
       "  <tbody>\n",
       "    <tr>\n",
       "      <th>0</th>\n",
       "      <td>Abby Mallard</td>\n",
       "      <td>Joan Cusack</td>\n",
       "      <td>Chicken Little</td>\n",
       "    </tr>\n",
       "    <tr>\n",
       "      <th>1</th>\n",
       "      <td>Abigail Gabble</td>\n",
       "      <td>Monica Evans</td>\n",
       "      <td>The Aristocats</td>\n",
       "    </tr>\n",
       "    <tr>\n",
       "      <th>2</th>\n",
       "      <td>Abis Mal</td>\n",
       "      <td>Jason Alexander</td>\n",
       "      <td>The Return of Jafar</td>\n",
       "    </tr>\n",
       "    <tr>\n",
       "      <th>3</th>\n",
       "      <td>Abu</td>\n",
       "      <td>Frank Welker</td>\n",
       "      <td>Aladdin</td>\n",
       "    </tr>\n",
       "    <tr>\n",
       "      <th>4</th>\n",
       "      <td>Achilles</td>\n",
       "      <td>None</td>\n",
       "      <td>The Hunchback of Notre Dame</td>\n",
       "    </tr>\n",
       "  </tbody>\n",
       "</table>\n",
       "</div>"
      ],
      "text/plain": [
       "        character      voice_actor                        movie\n",
       "0    Abby Mallard      Joan Cusack               Chicken Little\n",
       "1  Abigail Gabble     Monica Evans               The Aristocats\n",
       "2        Abis Mal  Jason Alexander          The Return of Jafar\n",
       "3             Abu     Frank Welker                      Aladdin\n",
       "4        Achilles             None  The Hunchback of Notre Dame"
      ]
     },
     "execution_count": 56,
     "metadata": {},
     "output_type": "execute_result"
    }
   ],
   "source": [
    "df = pd.read_csv('Data/disney_voice_actors.csv')\n",
    "df.head(5)"
   ]
  },
  {
   "cell_type": "code",
   "execution_count": 57,
   "id": "73538933",
   "metadata": {},
   "outputs": [
    {
     "data": {
      "text/plain": [
       "(935, 3)"
      ]
     },
     "execution_count": 57,
     "metadata": {},
     "output_type": "execute_result"
    }
   ],
   "source": [
    "df.shape"
   ]
  },
  {
   "cell_type": "code",
   "execution_count": 58,
   "id": "9f26b071",
   "metadata": {},
   "outputs": [],
   "source": [
    "b, counts = np.unique(df.loc[:,'voice_actor'],return_counts=True)\n",
    "sort_idx = np.argsort(counts,kind='stable')\n",
    "\n"
   ]
  },
  {
   "cell_type": "code",
   "execution_count": null,
   "id": "6c4a6125",
   "metadata": {},
   "outputs": [],
   "source": []
  },
  {
   "cell_type": "markdown",
   "id": "2e8e1243",
   "metadata": {},
   "source": [
    "## 4. Preprocessing + analyzing data to answer each question\n",
    "\n",
    "With each question:\n",
    "\n",
    "• Does it need to have preprocessing step, and if yes,\n",
    "how does your group preprocess?\n",
    "\n",
    "• Text: sketch steps `clearly` so that readers can\n",
    "understand how your group preprocesses even without\n",
    "reading code\n",
    "\n",
    "• Code: implement sketched steps. Your group should\n",
    "also try to write code `clearly` (choose good variable\n",
    "names, comment where should be commented, don’t\n",
    "let a line too long)\n",
    "\n",
    "• How does your group analyze data to answer the\n",
    "question?"
   ]
  },
  {
   "cell_type": "markdown",
   "id": "e5a18438",
   "metadata": {},
   "source": [
    "### **Câu hỏi 1:**\n",
    "**Which genres give out most total gross and least in total (thể loại nào đem lại lợi nhuận cao nhất và thấp nhất)**\n",
    "\n",
    "**Các bước thực hiện:**\n",
    "- Gom nhóm những bộ film cùng thể loại\n",
    "- Tìm ra doanh thu lớn nhất và thể loại đó\n",
    "- Tim ra doanh thu nhỏ nhất và thể loại đó"
   ]
  },
  {
   "cell_type": "code",
   "execution_count": 59,
   "id": "8ed9590a",
   "metadata": {
    "scrolled": true
   },
   "outputs": [
    {
     "name": "stdout",
     "output_type": "stream",
     "text": [
      "Thể loại film đem lại lợi nhuận cao nhất là: Adventure\n",
      "Với tổng doanh thu: 16389069453.0 USD\n",
      "\n",
      "Thể loại film đem lại lợi nhuận thấp nhất là: Horror\n",
      "Với tổng doanh thu: 87068872.0 USD\n"
     ]
    }
   ],
   "source": [
    "# Cau 1\n",
    "genre_total_gross = movies_gross.groupby('genre')['total_gross'].sum()\n",
    "genre_max = genre_total_gross[genre_total_gross == genre_total_gross.max()]\n",
    "genre_min = genre_total_gross[genre_total_gross == genre_total_gross.min()]\n",
    "\n",
    "print('Thể loại film đem lại lợi nhuận cao nhất là:',genre_max.index[0])\n",
    "print('Với tổng doanh thu:',genre_max.values[0],'USD')\n",
    "print()\n",
    "print('Thể loại film đem lại lợi nhuận thấp nhất là:',genre_min.index[0])\n",
    "print('Với tổng doanh thu:',genre_min.values[0],'USD')"
   ]
  },
  {
   "cell_type": "code",
   "execution_count": 60,
   "id": "731339f9",
   "metadata": {
    "scrolled": true
   },
   "outputs": [
    {
     "data": {
      "text/html": [
       "<div>\n",
       "<style scoped>\n",
       "    .dataframe tbody tr th:only-of-type {\n",
       "        vertical-align: middle;\n",
       "    }\n",
       "\n",
       "    .dataframe tbody tr th {\n",
       "        vertical-align: top;\n",
       "    }\n",
       "\n",
       "    .dataframe thead th {\n",
       "        text-align: right;\n",
       "    }\n",
       "</style>\n",
       "<table border=\"1\" class=\"dataframe\">\n",
       "  <thead>\n",
       "    <tr style=\"text-align: right;\">\n",
       "      <th></th>\n",
       "      <th>movie_title</th>\n",
       "      <th>release_date</th>\n",
       "      <th>genre</th>\n",
       "      <th>mpaa_rating</th>\n",
       "      <th>total_gross</th>\n",
       "      <th>inflation_adjusted_gross</th>\n",
       "    </tr>\n",
       "  </thead>\n",
       "  <tbody>\n",
       "    <tr>\n",
       "      <th>0</th>\n",
       "      <td>Snow White and the Seven Dwarfs</td>\n",
       "      <td>1937-12-21</td>\n",
       "      <td>Musical</td>\n",
       "      <td>G</td>\n",
       "      <td>184925485.0</td>\n",
       "      <td>5.228953e+09</td>\n",
       "    </tr>\n",
       "    <tr>\n",
       "      <th>1</th>\n",
       "      <td>Pinocchio</td>\n",
       "      <td>1940-02-09</td>\n",
       "      <td>Adventure</td>\n",
       "      <td>G</td>\n",
       "      <td>84300000.0</td>\n",
       "      <td>2.188229e+09</td>\n",
       "    </tr>\n",
       "    <tr>\n",
       "      <th>2</th>\n",
       "      <td>Fantasia</td>\n",
       "      <td>1940-11-13</td>\n",
       "      <td>Musical</td>\n",
       "      <td>G</td>\n",
       "      <td>83320000.0</td>\n",
       "      <td>2.187091e+09</td>\n",
       "    </tr>\n",
       "    <tr>\n",
       "      <th>3</th>\n",
       "      <td>Song of the South</td>\n",
       "      <td>1946-11-12</td>\n",
       "      <td>Adventure</td>\n",
       "      <td>G</td>\n",
       "      <td>65000000.0</td>\n",
       "      <td>1.078511e+09</td>\n",
       "    </tr>\n",
       "    <tr>\n",
       "      <th>4</th>\n",
       "      <td>Cinderella</td>\n",
       "      <td>1950-02-15</td>\n",
       "      <td>Drama</td>\n",
       "      <td>G</td>\n",
       "      <td>85000000.0</td>\n",
       "      <td>9.206087e+08</td>\n",
       "    </tr>\n",
       "    <tr>\n",
       "      <th>5</th>\n",
       "      <td>20,000 Leagues Under the Sea</td>\n",
       "      <td>1954-12-23</td>\n",
       "      <td>Adventure</td>\n",
       "      <td>NaN</td>\n",
       "      <td>28200000.0</td>\n",
       "      <td>5.282800e+08</td>\n",
       "    </tr>\n",
       "    <tr>\n",
       "      <th>6</th>\n",
       "      <td>Lady and the Tramp</td>\n",
       "      <td>1955-06-22</td>\n",
       "      <td>Drama</td>\n",
       "      <td>G</td>\n",
       "      <td>93600000.0</td>\n",
       "      <td>1.236036e+09</td>\n",
       "    </tr>\n",
       "    <tr>\n",
       "      <th>7</th>\n",
       "      <td>Sleeping Beauty</td>\n",
       "      <td>1959-01-29</td>\n",
       "      <td>Drama</td>\n",
       "      <td>NaN</td>\n",
       "      <td>9464608.0</td>\n",
       "      <td>2.150583e+07</td>\n",
       "    </tr>\n",
       "    <tr>\n",
       "      <th>8</th>\n",
       "      <td>101 Dalmatians</td>\n",
       "      <td>1961-01-25</td>\n",
       "      <td>Comedy</td>\n",
       "      <td>G</td>\n",
       "      <td>153000000.0</td>\n",
       "      <td>1.362871e+09</td>\n",
       "    </tr>\n",
       "    <tr>\n",
       "      <th>9</th>\n",
       "      <td>The Absent Minded Professor</td>\n",
       "      <td>1961-03-16</td>\n",
       "      <td>Comedy</td>\n",
       "      <td>NaN</td>\n",
       "      <td>25381407.0</td>\n",
       "      <td>3.100946e+08</td>\n",
       "    </tr>\n",
       "  </tbody>\n",
       "</table>\n",
       "</div>"
      ],
      "text/plain": [
       "                       movie_title release_date      genre mpaa_rating  \\\n",
       "0  Snow White and the Seven Dwarfs   1937-12-21    Musical           G   \n",
       "1                        Pinocchio   1940-02-09  Adventure           G   \n",
       "2                         Fantasia   1940-11-13    Musical           G   \n",
       "3                Song of the South   1946-11-12  Adventure           G   \n",
       "4                       Cinderella   1950-02-15      Drama           G   \n",
       "5     20,000 Leagues Under the Sea   1954-12-23  Adventure         NaN   \n",
       "6               Lady and the Tramp   1955-06-22      Drama           G   \n",
       "7                  Sleeping Beauty   1959-01-29      Drama         NaN   \n",
       "8                   101 Dalmatians   1961-01-25     Comedy           G   \n",
       "9      The Absent Minded Professor   1961-03-16     Comedy         NaN   \n",
       "\n",
       "   total_gross  inflation_adjusted_gross  \n",
       "0  184925485.0              5.228953e+09  \n",
       "1   84300000.0              2.188229e+09  \n",
       "2   83320000.0              2.187091e+09  \n",
       "3   65000000.0              1.078511e+09  \n",
       "4   85000000.0              9.206087e+08  \n",
       "5   28200000.0              5.282800e+08  \n",
       "6   93600000.0              1.236036e+09  \n",
       "7    9464608.0              2.150583e+07  \n",
       "8  153000000.0              1.362871e+09  \n",
       "9   25381407.0              3.100946e+08  "
      ]
     },
     "execution_count": 60,
     "metadata": {},
     "output_type": "execute_result"
    }
   ],
   "source": [
    "movies_gross.head(10)"
   ]
  },
  {
   "cell_type": "markdown",
   "id": "7136a141",
   "metadata": {},
   "source": [
    "### Câu hỏi 3:\n",
    "**Xem xét hiệu quả kinh doanh của các thể loại phim hành động, phiêu lưu trước thế kỷ 20 và sau thế kỷ 20**\n",
    "\n",
    "**Các bước thực hiện:**\n",
    "- Lọc ra những phim có thể loại hành động và phiêu lưu\n",
    "- Tạo thêm cột `year` được trích xuất từ cột `release_date`\n",
    "- Gom nhóm các phim trước năm 2000 và sau năm 2000\n",
    "- Tính tổng doanh thu dựa trên cột `inflation_adjusted_gross`\n",
    "- Tính doanh thu trung bình của mỗi phim trong 2 giai đoạn\n",
    "- Rút ra nhận xét"
   ]
  },
  {
   "cell_type": "code",
   "execution_count": 61,
   "id": "e239d8ce",
   "metadata": {},
   "outputs": [
    {
     "name": "stdout",
     "output_type": "stream",
     "text": [
      "Xét trên 2 thể loại hành động và phiêu lưu ta có: \n",
      "\n",
      "Tổng doanh thu trước thế kỷ 20: 12152462471.0\n",
      "Số phim trước thế kỷ 20: 75\n",
      "Thời gian ra mắt: 1940 -> 2000 \n",
      "\n",
      "Tổng doanh thu sau thế kỷ 20: 17907740473.0\n",
      "Số phim sau thế kỷ 20: 94\n",
      "Thời gian ra mắt: 2001 -> 2016 \n",
      "\n",
      "Doanh thu trung bình của mỗi phim trước thế kỷ 20: 162032832.94666666\n",
      "Doanh thu trung bình của mỗi phim sau thế kỷ 20: 190507877.3723404\n",
      "(Thể loại phim hành động, phiêu lưu có sự tăng trưởng sau thế kỷ 20) \n",
      "\n",
      "Tỉ lệ tăng trưởng doanh thu: 17.57 %\n"
     ]
    }
   ],
   "source": [
    "movies_gross['year'] = pd.DatetimeIndex(movies_gross['release_date']).year\n",
    "\n",
    "options = ['Action','Adventure']\n",
    "df = movies_gross[movies_gross['genre'].isin(options)]\n",
    "\n",
    "before_20th_df = df[df['year'] <= 2000] \n",
    "after_20th_df = df[df['year'] > 2000]\n",
    "total_gross_before20th = before_20th_df['inflation_adjusted_gross'].sum()\n",
    "total_gross_after20th = after_20th_df['inflation_adjusted_gross'].sum()\n",
    "\n",
    "num_films_before20th = before_20th_df['movie_title'].count()\n",
    "num_films_after20th = after_20th_df['movie_title'].count()\n",
    "\n",
    "print('Xét trên 2 thể loại hành động và phiêu lưu ta có:','\\n')\n",
    "print('Tổng doanh thu trước thế kỷ 20:',total_gross_before20th)\n",
    "print('Số phim trước thế kỷ 20:',num_films_before20th)\n",
    "print('Thời gian ra mắt:',before_20th_df['year'].min(),'->',before_20th_df['year'].max(),'\\n')\n",
    "\n",
    "print('Tổng doanh thu sau thế kỷ 20:',total_gross_after20th)\n",
    "print('Số phim sau thế kỷ 20:',num_films_after20th)\n",
    "print('Thời gian ra mắt:',after_20th_df['year'].min(),'->',after_20th_df['year'].max(),'\\n')\n",
    "\n",
    "print('Doanh thu trung bình của mỗi phim trước thế kỷ 20:',total_gross_before20th/num_films_before20th)\n",
    "print('Doanh thu trung bình của mỗi phim sau thế kỷ 20:',total_gross_after20th/num_films_after20th)\n",
    "print('(Thể loại phim hành động, phiêu lưu có sự tăng trưởng sau thế kỷ 20)','\\n')\n",
    "\n",
    "ratio = (total_gross_after20th/num_films_after20th) / (total_gross_before20th/num_films_before20th) - 1\n",
    "print('Tỉ lệ tăng trưởng doanh thu:',ratio.round(4)*100,'%')\n",
    "\n"
   ]
  },
  {
   "cell_type": "markdown",
   "id": "f9b07099",
   "metadata": {},
   "source": [
    "**Nhận xét:**\n",
    "- Hiệu quả kinh doanh của hai thể loại phim phiêu lưu, hành động có sự tăng trưởng mạnh\n",
    "- Tăng trưởng về số lượng:\n",
    "    - Trước thế kỷ 20, trong **60 năm** ra **75 phim** \n",
    "    - Sau thế kỷ 20, trong vòng **15 năm** ra tận **94 phim** \n",
    "- Tăng trưởng về doanh thu:\n",
    "    - Tỉ lệ tăng trưởng doanh thu trên mỗi bộ phim **tăng 17,57 %**"
   ]
  },
  {
   "cell_type": "markdown",
   "id": "ed54510f",
   "metadata": {},
   "source": [
    "### Câu hỏi 4:\n",
    "**Xu hướng thể loại phim yêu thích của khán giả có thay đổi qua thời gian hay không ?**\n",
    "- Để tra lời câu hỏi này, thì em sẽ chia ra từng giai đoạn để kiểm tra( 1 giai đoạn = 5 năm). Với mỗi chu kỳ, ta sẽ kiểm tra xem thể loại phim nào được phát hành nhiều nhất. Qua đó xem xét xu hướng của khán giả.\n",
    "\n",
    "\n",
    "- **Các bước thực hiện:**\n",
    "    - Thêm cột `phase` được chia trên cột `year`\n",
    "    - Những năm `< 1940` được nhập vào giai đoạn đầu tiên\n",
    "    - Những năm `> 2015` được nhập vào giai đoạn cuối cùng ( Vì dữ liệu chỉ đến năm 2016)\n",
    "    - Tìm thể loại phim được ra mắt nhiều nhất trong mỗi giai đoạn\n",
    "    - Xem xét xu hướng thể loại phim được yêu thích"
   ]
  },
  {
   "cell_type": "code",
   "execution_count": 149,
   "id": "df06e9f4",
   "metadata": {},
   "outputs": [
    {
     "data": {
      "text/html": [
       "<div>\n",
       "<style scoped>\n",
       "    .dataframe tbody tr th:only-of-type {\n",
       "        vertical-align: middle;\n",
       "    }\n",
       "\n",
       "    .dataframe tbody tr th {\n",
       "        vertical-align: top;\n",
       "    }\n",
       "\n",
       "    .dataframe thead th {\n",
       "        text-align: right;\n",
       "    }\n",
       "</style>\n",
       "<table border=\"1\" class=\"dataframe\">\n",
       "  <thead>\n",
       "    <tr style=\"text-align: right;\">\n",
       "      <th></th>\n",
       "      <th>phase</th>\n",
       "      <th>genre_trend</th>\n",
       "    </tr>\n",
       "  </thead>\n",
       "  <tbody>\n",
       "    <tr>\n",
       "      <th>0</th>\n",
       "      <td>1937 - 1944</td>\n",
       "      <td>Musical</td>\n",
       "    </tr>\n",
       "    <tr>\n",
       "      <th>1</th>\n",
       "      <td>1945 - 1949</td>\n",
       "      <td>Adventure</td>\n",
       "    </tr>\n",
       "    <tr>\n",
       "      <th>2</th>\n",
       "      <td>1950 - 1954</td>\n",
       "      <td>Adventure</td>\n",
       "    </tr>\n",
       "    <tr>\n",
       "      <th>3</th>\n",
       "      <td>1955 - 1959</td>\n",
       "      <td>Drama</td>\n",
       "    </tr>\n",
       "    <tr>\n",
       "      <th>4</th>\n",
       "      <td>1960 - 1964</td>\n",
       "      <td>Comedy</td>\n",
       "    </tr>\n",
       "    <tr>\n",
       "      <th>5</th>\n",
       "      <td>1965 - 1969</td>\n",
       "      <td>Comedy</td>\n",
       "    </tr>\n",
       "    <tr>\n",
       "      <th>6</th>\n",
       "      <td>1970 - 1974</td>\n",
       "      <td>Musical</td>\n",
       "    </tr>\n",
       "    <tr>\n",
       "      <th>7</th>\n",
       "      <td>1975 - 1979</td>\n",
       "      <td>Comedy</td>\n",
       "    </tr>\n",
       "    <tr>\n",
       "      <th>8</th>\n",
       "      <td>1980 - 1984</td>\n",
       "      <td>Drama</td>\n",
       "    </tr>\n",
       "    <tr>\n",
       "      <th>9</th>\n",
       "      <td>1985 - 1989</td>\n",
       "      <td>Comedy</td>\n",
       "    </tr>\n",
       "    <tr>\n",
       "      <th>10</th>\n",
       "      <td>1990 - 1994</td>\n",
       "      <td>Comedy</td>\n",
       "    </tr>\n",
       "    <tr>\n",
       "      <th>11</th>\n",
       "      <td>1995 - 1999</td>\n",
       "      <td>Comedy</td>\n",
       "    </tr>\n",
       "    <tr>\n",
       "      <th>12</th>\n",
       "      <td>2000 - 2004</td>\n",
       "      <td>Comedy</td>\n",
       "    </tr>\n",
       "    <tr>\n",
       "      <th>13</th>\n",
       "      <td>2005 - 2009</td>\n",
       "      <td>Adventure</td>\n",
       "    </tr>\n",
       "    <tr>\n",
       "      <th>14</th>\n",
       "      <td>2010 - 2014</td>\n",
       "      <td>Adventure</td>\n",
       "    </tr>\n",
       "    <tr>\n",
       "      <th>15</th>\n",
       "      <td>2015 - 2016</td>\n",
       "      <td>Adventure</td>\n",
       "    </tr>\n",
       "  </tbody>\n",
       "</table>\n",
       "</div>"
      ],
      "text/plain": [
       "          phase genre_trend\n",
       "0   1937 - 1944     Musical\n",
       "1   1945 - 1949   Adventure\n",
       "2   1950 - 1954   Adventure\n",
       "3   1955 - 1959       Drama\n",
       "4   1960 - 1964      Comedy\n",
       "5   1965 - 1969      Comedy\n",
       "6   1970 - 1974     Musical\n",
       "7   1975 - 1979      Comedy\n",
       "8   1980 - 1984       Drama\n",
       "9   1985 - 1989      Comedy\n",
       "10  1990 - 1994      Comedy\n",
       "11  1995 - 1999      Comedy\n",
       "12  2000 - 2004      Comedy\n",
       "13  2005 - 2009   Adventure\n",
       "14  2010 - 2014   Adventure\n",
       "15  2015 - 2016   Adventure"
      ]
     },
     "execution_count": 149,
     "metadata": {},
     "output_type": "execute_result"
    }
   ],
   "source": [
    "df = movies_gross\n",
    "df['phase'] = ((df['year'] - 1940) / 5).apply(int)\n",
    "df.loc[df['year'] <1940, 'phase'] = 0\n",
    "df.loc[df['year'] >2015, 'phase'] = 15\n",
    "\n",
    "df = df.groupby(['phase','genre'])['genre'].count()\n",
    "df = df.unstack(1)\n",
    "\n",
    "df = df.idxmax(axis=1).to_frame()\n",
    "df.columns = ['genre_trend']\n",
    "df = df.reset_index()\n",
    "df['phase'] = (df['phase']*5+1940).apply(int).apply(str) + ' - ' + (df['phase']*5+1944).apply(int).apply(str)\n",
    "\n",
    "df['phase'][0] = '1937 - 1944'\n",
    "df['phase'][15] = '2015 - 2016'\n",
    "df"
   ]
  },
  {
   "cell_type": "markdown",
   "id": "c455c3f9",
   "metadata": {},
   "source": [
    "**Nhận xét:**\n",
    "- Thể loại phim yêu thích có xu hướng dịch chuyển qua từng giai đoạn\n",
    "- Giai đoạn 1937 - 1959, có thể giai đoạn này chưa định hình được xu hướng vì có 4 giai đoạn nhưng có đến 3 thể loại phim\n",
    "- Giai đoạn 1960 - 2004, là giai đoạn thành công của thể loại phim hài khi chiếm phần đa số\n",
    "- Giai đoạn 2005 - 2016, thể loại phim được khán giả quan tâm yêu thích nhất là thể loại phim phiêu lưu, có thể nói thể loại phim này đang thống trị"
   ]
  },
  {
   "cell_type": "markdown",
   "id": "a80520da",
   "metadata": {},
   "source": [
    "## 5. Reflection\n",
    "\n",
    "• Each member: What difficulties have you encountered?\n",
    "\n",
    "• Each member: What have you learned?\n",
    "\n",
    "• Your group: If you had more time, what would you do?"
   ]
  },
  {
   "cell_type": "markdown",
   "id": "01ccf27b",
   "metadata": {},
   "source": [
    "## 6. References and Footnote\n",
    "To finish this project, what materials have you consulted?\n",
    "\n",
    "\n",
    "\n",
    "(1): `Box office gross` -> Revenue generated from ticket sales (receipts) including any taxes and other levies.  \n",
    "(2): `MPAA ratings` -> The MPAA rating system is a voluntary film-rating system created by the Motion Picture Association of America (MPAA) and the National Association of Theatre Owners (NATO) to determine a movie's suitability for audiences and age groups based on content.  \n",
    "(3): `CC-BY` -> it is the most open license. It allows the user to redistribute, to create derivatives, such as a translation, and even use the publication for commercial activities, provided that appropriate credit is given to the author (BY) and that the user indicates whether the publication has been changed."
   ]
  },
  {
   "cell_type": "code",
   "execution_count": null,
   "id": "56c7678f",
   "metadata": {},
   "outputs": [],
   "source": []
  }
 ],
 "metadata": {
  "kernelspec": {
   "display_name": "Python 3 (ipykernel)",
   "language": "python",
   "name": "python3"
  },
  "language_info": {
   "codemirror_mode": {
    "name": "ipython",
    "version": 3
   },
   "file_extension": ".py",
   "mimetype": "text/x-python",
   "name": "python",
   "nbconvert_exporter": "python",
   "pygments_lexer": "ipython3",
   "version": "3.8.8"
  }
 },
 "nbformat": 4,
 "nbformat_minor": 5
}
